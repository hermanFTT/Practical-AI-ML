{
 "cells": [
  {
   "cell_type": "markdown",
   "metadata": {
    "id": "dQHA0np79aCA"
   },
   "source": [
    "# Preamble\n",
    "The codeblocks below are there to important the right packages, provide some helper functions, and hardcode a number of often used values. If you find yourself needed to make adjustments to these codeblocks to make the code work, please let us know as this most likely means that something has gone wrong in our implementation."
   ]
  },
  {
   "cell_type": "code",
   "execution_count": null,
   "metadata": {
    "id": "lnN8MQFmPbc5"
   },
   "outputs": [],
   "source": [
    "%matplotlib notebook\n",
    "\n",
    "import torch\n",
    "import numpy as np\n",
    "\n",
    "from tqdm import tqdm\n",
    "\n",
    "import torch.distributions as D\n",
    "\n",
    "import matplotlib\n",
    "import matplotlib.pyplot as plt\n",
    "from matplotlib import animation"
   ]
  },
  {
   "cell_type": "code",
   "execution_count": null,
   "metadata": {
    "id": "Lz_4BTCJO9HZ"
   },
   "outputs": [],
   "source": [
    "def reset_seeds(seed=42):\n",
    "  torch.manual_seed(seed)\n",
    "  torch.cuda.manual_seed(seed)\n",
    "  torch.backends.cudnn.deterministic = True\n",
    "  np.random.seed(seed)\n",
    "\n",
    "# Number of samples used for MC integration\n",
    "N = 10000"
   ]
  },
  {
   "cell_type": "code",
   "execution_count": null,
   "metadata": {
    "id": "Z0kVJhN6fXEg"
   },
   "outputs": [],
   "source": [
    "class AnimationPlotter():\n",
    "  def __init__(self, potential):\n",
    "    self.buffer = []\n",
    "    self.xs = torch.linspace(-5, 5, 100)\n",
    "    self.potential = potential\n",
    "    self.pots = potential(self.xs)\n",
    "\n",
    "    self.internal_energies = []\n",
    "    self.entropies = []\n",
    "    self.free_energies = []\n",
    "\n",
    "  def add_to_buffer(self, p, samples):\n",
    "    self.buffer.append(torch.exp(p.log_prob(self.xs)).detach())\n",
    "    self.internal_energies.append(U(samples, p, self.potential).mean().detach().clone())\n",
    "    self.entropies.append(S(samples, p).mean().detach().clone())\n",
    "    self.free_energies.append(F(samples, p, self.potential).mean().detach().clone())\n",
    "\n",
    "  def animate(self):\n",
    "      fig, ax = plt.subplots(1, 2, figsize=(10, 5))\n",
    "      ax[0].plot(self.xs, self.pots, label=\"Potential Energy\")\n",
    "      l, = ax[0].plot([],[], label=\"Probability distribution\")\n",
    "      lU, = ax[1].plot([],[], label=\"Internal Energy\")\n",
    "      lS, = ax[1].plot([],[], label=\"Entropy\")\n",
    "      lF, = ax[1].plot([],[], label=\"Free Energy\")\n",
    "      ax[0].set_xlim(-5, 5)\n",
    "      ax[0].set_ylim(-1, 4)\n",
    "      ax[1].set_xlim(0, len(self.free_energies)-1)\n",
    "      ax[1].set_ylim(-2, 5)\n",
    "      ax[1].legend()\n",
    "      ax[0].legend()\n",
    "\n",
    "      def ani(i):\n",
    "          l.set_data(self.xs, self.buffer[i])\n",
    "\n",
    "          xs = torch.range(0, len(self.free_energies[:(i+1)])-1)\n",
    "          lU.set_data(xs, self.internal_energies[:(i+1)])#, label=\"Internal Energy\")\n",
    "          lS.set_data(xs, self.entropies[:(i+1)])#, label=\"Entropy\")\n",
    "          lF.set_data(xs, self.free_energies[:(i+1)])#, label=\"Free Energy\")\n",
    "\n",
    "      ani = animation.FuncAnimation(fig, ani, frames=len(self.buffer), interval=50)\n",
    "\n",
    "      from IPython.display import HTML\n",
    "      return HTML(ani.to_jshtml())"
   ]
  },
  {
   "cell_type": "markdown",
   "metadata": {
    "id": "_-R-aUYo0YnR"
   },
   "source": [
    "# Administrative Information\n",
    "Again, please note that none of the tasks set are supposed to be extremely challenging and if you do run into any problems, chances are high that this is due to unclarity on our side. As such, if you are stuck on a task for a longer time, do please reach out to lars@aims.ac.za\n",
    "\n",
    "The notebooks are roughly structured as follows:\n",
    "- Coding tasks and questions are mixed together and are highlighted by the keyword: \"**Task**\".\n",
    "- Depending on what the task is acking for, the task will be followed by either a codeblock containing some pre-writen helper code and a `#Todo` flag after which you can add your implementation, or a markdown block containing the keyword \"*Answer:*\" for you to provide your answer.\n",
    "- Some tasks are followed by a \"**Hint:**\" which will contain some extra instructions for the coding implementations, or it might point you towards the right answer to a question.\n",
    "- At the end of each notebook we will have a short section with additional challenging extensions that you could choose to work on if you found a topic interesting. Please note that you are not required to do these extensions. Solving one or more of the extensions does **not** by definition result in a higher grade for the course.\n",
    "\n",
    "Lastly, to help us in improving the coding assignments in the following weeks, please fill in the anonymous feedback [form](https://forms.gle/vVBXm7nhW94yMkHr8) (you can do this for every assigment, just make sure to pick the correct day you just finished in the shee). We highly appreciate your feedback, positive and negative!"
   ]
  },
  {
   "cell_type": "markdown",
   "metadata": {
    "id": "QStAmvkMaUb0"
   },
   "source": [
    "# Section 1: Minimal Free-Energy\n",
    "Yesterday we studied how internal energy, entropy and free-energy change as a function of the hamiltonian and probability distribution used. Our approach here was quite unstructured, we simply tried different potentials and different distributions and looked at what happened. Today we are going to be a bit more rigorous and try to find a probability distribution that minimizes the free-energy for a given hamiltonian. Fort his purpose we will first consider only probability distributions of the Gaussian family, but in the next section we will see how we can also define an arbitrary distribution!\n",
    "\n"
   ]
  },
  {
   "cell_type": "markdown",
   "metadata": {
    "id": "ftxZ8E72dfce"
   },
   "source": [
    "## Section 1.1: Recap yesterday\n",
    "\n",
    "First, we will recap some of the concepts we looked at yesterday and make some adjustments to our code from yesterday to make it more suitable for the tasks today. First, let's restate the definitions of internal energy, entropy and free-energy:\n",
    "**Internal Energy / Expected Energy**\n",
    "$$\n",
    "{U}[p] =  \\int dx p(x) {H}(x)\n",
    "$$\n",
    "\n",
    "**Entropy**\n",
    "$$\n",
    "S[p] =  - \\int dx p(x) \\log p(x)\n",
    "$$\n",
    "\n",
    "**Free-Energy**\n",
    "$$\n",
    "{F}[p] = U[p] - T {S}[p]\n",
    "$$\n",
    "\n",
    "For the first part of the assignent we can ignore the temperature and set $T = 1$. *Please note that we had an error in the sign of the entropy yesterday, this is now resolved.*\n",
    "\n",
    "> **Task**: The first task is to make a small adjustment from your code yesterday. Instead of passing in a probability distribution p, we will now give U, S and F a number of samples (sampled from p, or some other distribution). Everything else should remain the same.\n",
    "\n",
    "**Hint:** Please check that if you copy in your code of yesterday that you fix the sign of the entropy if you worked with an older version of the file yesterday."
   ]
  },
  {
   "cell_type": "code",
   "execution_count": null,
   "metadata": {
    "id": "UbjngeoI8cao"
   },
   "outputs": [],
   "source": [
    "def U(p, H):\n",
    "  samples = p.sample((N,))\n",
    "  U=H(samples).mean()\n",
    "  # TODO\n",
    "  return U\n",
    "\n",
    "def S(p):\n",
    "  samples = p.sample((N,))\n",
    "  S=-torch.log(p.log_prob(samples).exp()).mean()\n",
    "  # TODO\n",
    "  return S\n",
    "\n",
    "def F(p, H):\n",
    "  u=U(p, H)\n",
    "  s=S(p)\n",
    "  F=u-s\n",
    "  return F"
   ]
  },
  {
   "cell_type": "code",
   "execution_count": null,
   "metadata": {
    "id": "Ptv6TKVX3Q0l"
   },
   "outputs": [],
   "source": [
    "def U(samples, p, H):\n",
    "  U=H(samples).mean()\n",
    "  return U\n",
    "\n",
    "def S(samples, p):\n",
    "  S=-torch.log(p.log_prob(samples).exp()).mean()\n",
    "  # TODO\n",
    "  return S\n",
    "\n",
    "def F(samples, p, H):\n",
    "   u=U(samples, p, H)\n",
    "   s=S(samples, p)\n",
    "   F=u-s\n",
    "  # TODO\n",
    "   return F"
   ]
  },
  {
   "cell_type": "markdown",
   "metadata": {
    "id": "gbeAdM1Zf-KN"
   },
   "source": [
    "**Checkpoint**: We will need the code you have created above throughout the rest of the practical. Please run the code below to see if your implementation is correct. You should get the following output:\n",
    "\n",
    "```\n",
    "0.8665626049041748\n",
    "0.6931473016738892\n",
    "0.17341530323028564\n",
    "```"
   ]
  },
  {
   "cell_type": "code",
   "execution_count": null,
   "metadata": {
    "colab": {
     "base_uri": "https://localhost:8080/"
    },
    "executionInfo": {
     "elapsed": 405,
     "status": "ok",
     "timestamp": 1711898409455,
     "user": {
      "displayName": "Herman Franclin TESSO TASSANG",
      "userId": "12553198285820224924"
     },
     "user_tz": -120
    },
    "id": "vcVMTQT0aT4D",
    "outputId": "344022db-5a70-4b6c-95f8-03378f193b83"
   },
   "outputs": [
    {
     "name": "stdout",
     "output_type": "stream",
     "text": [
      "0.8659842610359192\n",
      "0.6931473016738892\n",
      "0.17283695936203003\n"
     ]
    }
   ],
   "source": [
    "reset_seeds()\n",
    "\n",
    "double_well_potential = lambda x: -x**2 + x**4 + 1\n",
    "uniform_distribution = D.Uniform(-1, 1)\n",
    "samples = uniform_distribution.sample((N,))\n",
    "\n",
    "internal_energy = U(samples, uniform_distribution, double_well_potential)\n",
    "entropy = S(samples, uniform_distribution)\n",
    "free_energy = F(samples, uniform_distribution, double_well_potential)\n",
    "\n",
    "print(internal_energy.item())\n",
    "print(entropy.item())\n",
    "print(free_energy.item())"
   ]
  },
  {
   "cell_type": "markdown",
   "metadata": {
    "id": "7ZvWh5jKcP7P"
   },
   "source": [
    "## Section 1.2: Optimizing Free Energy\n",
    "As mentioned above, today we will focus on finding probability distributions that minimize the free-energy for a given Hamiltonian. For this purpose we will first consider the harmonic potential and a Gaussian distribution.\n",
    "\n",
    "Formally, given a Hamiltonian $H$ we are going to try to find optimal $\\mu^*$ and $\\sigma^*$ such that\n",
    "$$\n",
    "\\arg\\min_{\\mu, \\sigma} F(\\mathcal{N}(\\mu, \\sigma), H).\n",
    "$$\n",
    "\n",
    "We will be doing this using iterative gradient descent using the pytorch framework. We will start with a random initialization $\\mu_0$ and $\\sigma_0$ and iterative apply the gradient update steps:\n",
    "\\begin{align}\n",
    "  \\mu_{t+1} = \\mu_t + \\eta \\cdot \\frac{\\partial F}{\\partial \\mu_t}(\\mathcal{N}(\\mu_t, \\sigma_t), H) \\\\\n",
    "  \\sigma_{t+1} = \\sigma_t + \\eta \\cdot \\frac{\\partial F}{\\partial \\sigma_t} (\\mathcal{N}(\\mu_t, \\sigma_t), H)\n",
    "\\end{align}\n",
    "\n",
    "> **Task**: Implement the missing components in the function `determine_minimal_free_energy_normal()`:\n",
    "- Given N samples sampled from your current Gaussian distribution, determine the Free-Energy\n",
    "- Take the gradient of the free-energy with respect to your parameters and apply and update step."
   ]
  },
  {
   "cell_type": "code",
   "execution_count": null,
   "metadata": {
    "id": "lWGgO2ZxCsyR"
   },
   "outputs": [],
   "source": [
    "def harmonic_potential(a, b):\n",
    "  return lambda x: b * (x - a)**2"
   ]
  },
  {
   "cell_type": "code",
   "execution_count": null,
   "metadata": {
    "id": "-wtiSO-9fjQD"
   },
   "outputs": [],
   "source": [
    "def determine_minimal_free_energy_normal(potential, animation_plotter=None, progress_plotter=None):\n",
    "  # Initialize the mean and variance of the normal distribution\n",
    "  mean = torch.tensor(0., requires_grad=True)\n",
    "  std = torch.tensor(1., requires_grad=True)\n",
    "\n",
    "  p = D.Normal(mean, std)\n",
    "\n",
    "  # Set the learning rate\n",
    "  lr = 0.01\n",
    "\n",
    "  for _ in tqdm(range(500)):\n",
    "    # Sample from the distribution\n",
    "    samples = p.rsample((N,))\n",
    "\n",
    "    # Calculate the Free-Energy for all samples\n",
    "    free_energy=F(samples, p, potential)\n",
    "    #TODO\n",
    "\n",
    "    # Update the mean\n",
    "    grad_mean = torch.autograd.grad(free_energy, mean, retain_graph=True)[0]\n",
    "    mean.data -=lr*grad_mean #TODO\n",
    "\n",
    "    # # Update the std\n",
    "    grad_std = torch.autograd.grad(free_energy, std, retain_graph=False)[0]\n",
    "    std.data -=lr*grad_std #TODO\n",
    "\n",
    "    if animation_plotter is not None: animation_plotter.add_to_buffer(p, samples)\n",
    "\n",
    "  return p\n"
   ]
  },
  {
   "cell_type": "markdown",
   "metadata": {
    "id": "VUpuXLZtbeUz"
   },
   "source": [
    "**Checkpoint**: Run the code block below to see if your implementation worked correct, the output should be:\n",
    "```\n",
    "100%|██████████| 500/500 [00:01<00:00, 464.61it/s]\n",
    "Normal(loc: 0.999645471572876, scale: 0.7078309655189514)\n",
    "```"
   ]
  },
  {
   "cell_type": "code",
   "execution_count": null,
   "metadata": {
    "colab": {
     "base_uri": "https://localhost:8080/"
    },
    "executionInfo": {
     "elapsed": 1063,
     "status": "ok",
     "timestamp": 1711898472498,
     "user": {
      "displayName": "Herman Franclin TESSO TASSANG",
      "userId": "12553198285820224924"
     },
     "user_tz": -120
    },
    "id": "9ldvO4mPCwB1",
    "outputId": "1ac294cd-bcab-443c-e714-f941d8867feb"
   },
   "outputs": [
    {
     "name": "stderr",
     "output_type": "stream",
     "text": [
      "100%|██████████| 500/500 [00:00<00:00, 811.84it/s]"
     ]
    },
    {
     "name": "stdout",
     "output_type": "stream",
     "text": [
      "\n",
      "Normal(loc: 0.999645471572876, scale: 0.7078310251235962)\n"
     ]
    },
    {
     "name": "stderr",
     "output_type": "stream",
     "text": [
      "\n"
     ]
    }
   ],
   "source": [
    "reset_seeds()\n",
    "\n",
    "# Set up the potential function\n",
    "potential = harmonic_potential(1, 1.)\n",
    "\n",
    "# Set up the plotters\n",
    "p = determine_minimal_free_energy_normal(potential)\n",
    "print()\n",
    "print(p)"
   ]
  },
  {
   "cell_type": "markdown",
   "metadata": {
    "id": "b7fGwMSTa5bY"
   },
   "source": [
    "> **Task:** Do you know why we use rsample instead of sample to obtain samples form out distribution $\\mathcal{N}(\\mu_t, \\sigma_t)$? If, so, where in machine learning have you seen it before? If not, have you heard about the reparametrisation trick? (This is an open question, not knowing the answer is completely fine. We will cover this briefly next week. *No marks will be deducated for answering this question with; \"No.\"*)"
   ]
  },
  {
   "cell_type": "markdown",
   "metadata": {
    "id": "uVb4kol12R8X"
   },
   "source": [
    "*Answer:*\n",
    "No\n"
   ]
  },
  {
   "cell_type": "markdown",
   "metadata": {
    "id": "qOUX_DShbOn0"
   },
   "source": [
    "## Section 1.4: Experiments with Harmonic Potential\n",
    "Now that we have implemented the optimization procedure we can investigate how $\\mu$ and $\\sigma$ will change based on the parameters $a$ and $b$ of our harmonig potential.\n",
    "\n",
    "> **Task**: Try different values for a and b with the Harmonic Potential. Does the Entropy always go up? Is this a suprising result?\n",
    "\n",
    "**Hint:** To get a better understanding of how the distribution changes, we have implemented a plotting class. The codeblock below shows how it can be used."
   ]
  },
  {
   "cell_type": "markdown",
   "metadata": {
    "id": "GsL2ZHbO7-NQ"
   },
   "source": [
    "*Answer:*\n",
    "\n",
    "The Entropy does not always go up. when both $a\\ $ and $\\ b$ are both away from 1, the Entropy decrease and  get closer to the internal energy and the free-energy tend to zero. Whereas the Entropy increase when $a$ and $b$ is closer to 1.\n",
    "\n"
   ]
  },
  {
   "cell_type": "code",
   "execution_count": 18,
   "metadata": {
    "colab": {
     "base_uri": "https://localhost:8080/",
     "height": 695,
     "output_embedded_package_id": "1NfWrmsDfLvz7r7O3W5j2tFm99ZfbzO9Y"
    },
    "executionInfo": {
     "elapsed": 81086,
     "status": "ok",
     "timestamp": 1711903085650,
     "user": {
      "displayName": "Herman Franclin TESSO TASSANG",
      "userId": "12553198285820224924"
     },
     "user_tz": -120
    },
    "id": "hwiqNk6hdGIj",
    "outputId": "13c229b3-55ac-4fe7-ae46-e647fc989864"
   },
   "outputs": [
    {
     "data": {
      "text/plain": [
       "Output hidden; open in https://colab.research.google.com to view."
      ]
     },
     "metadata": {},
     "output_type": "display_data"
    }
   ],
   "source": [
    "# Set up the potential function\n",
    "potential = harmonic_potential(1, .1)\n",
    "\n",
    "# Set up the plotters\n",
    "plotter = AnimationPlotter(potential)\n",
    "\n",
    "p = determine_minimal_free_energy_normal(potential, animation_plotter=plotter)\n",
    "\n",
    "plotter.animate()"
   ]
  },
  {
   "cell_type": "code",
   "execution_count": 20,
   "metadata": {
    "colab": {
     "base_uri": "https://localhost:8080/",
     "height": 695,
     "output_embedded_package_id": "1B2WhNciOlpFElfuNUWTPWGsuu-UGqovP"
    },
    "executionInfo": {
     "elapsed": 80027,
     "status": "ok",
     "timestamp": 1711903856125,
     "user": {
      "displayName": "Herman Franclin TESSO TASSANG",
      "userId": "12553198285820224924"
     },
     "user_tz": -120
    },
    "id": "_h97ujRTHBOL",
    "outputId": "ba7c2372-ce44-49c7-ac3a-b42876a8ba94"
   },
   "outputs": [
    {
     "data": {
      "text/plain": [
       "Output hidden; open in https://colab.research.google.com to view."
      ]
     },
     "metadata": {},
     "output_type": "display_data"
    }
   ],
   "source": [
    "#@title experiment (interactif) {run: \"auto\"}\n",
    "## a and b values\n",
    "a=6 #@param {type:\"slider\", min:1, max:10, step:1}\n",
    "b=2 #@param {type:\"slider\", min:1, max:10, step:1}\n",
    "# potential function\n",
    "potential = harmonic_potential(a, b)\n",
    "\n",
    "# Set up the plotters\n",
    "plotter = AnimationPlotter(potential)\n",
    "\n",
    "p = determine_minimal_free_energy_normal(potential, animation_plotter=plotter)\n",
    "\n",
    "plotter.animate()"
   ]
  },
  {
   "cell_type": "markdown",
   "metadata": {
    "id": "2q0hw4hqUYfB"
   },
   "source": [
    "## Section 1.5: Boltzmann distribution\n",
    "So far we have only considered finding the Gaussian distribution with minimal free-energy for the Harmonic potential, but, as we discussed yesterday, infinitely many different potential function can be defined. One such potential is the double well potential that we also used yesterday.\n",
    "\n",
    "> **Task:** Find the Gaussian distribution with minimal free-energy for the double-well potential."
   ]
  },
  {
   "cell_type": "code",
   "execution_count": 22,
   "metadata": {
    "executionInfo": {
     "elapsed": 478,
     "status": "ok",
     "timestamp": 1711904559665,
     "user": {
      "displayName": "Herman Franclin TESSO TASSANG",
      "userId": "12553198285820224924"
     },
     "user_tz": -120
    },
    "id": "fxt1bk2O5IqC"
   },
   "outputs": [],
   "source": [
    "def double_well_potential():\n",
    "  return lambda x: -x**2 + x**4"
   ]
  },
  {
   "cell_type": "code",
   "execution_count": 23,
   "metadata": {
    "colab": {
     "base_uri": "https://localhost:8080/",
     "height": 71
    },
    "executionInfo": {
     "elapsed": 1506,
     "status": "ok",
     "timestamp": 1711904561875,
     "user": {
      "displayName": "Herman Franclin TESSO TASSANG",
      "userId": "12553198285820224924"
     },
     "user_tz": -120
    },
    "id": "jDAQ3rAG5Js-",
    "outputId": "cf2c6b52-b51e-44bd-8c8f-75d5d7612f50"
   },
   "outputs": [
    {
     "name": "stderr",
     "output_type": "stream",
     "text": [
      "100%|██████████| 500/500 [00:00<00:00, 725.47it/s]"
     ]
    },
    {
     "name": "stdout",
     "output_type": "stream",
     "text": [
      "Gaussian distribution with minimal free-energy for double well potential is given by: \n",
      "Normal(loc: 6.639398634433746e-05, scale: 0.6208270788192749)\n"
     ]
    },
    {
     "name": "stderr",
     "output_type": "stream",
     "text": [
      "\n"
     ]
    }
   ],
   "source": [
    "p=determine_minimal_free_energy_normal(double_well_potential(), animation_plotter=None, progress_plotter=None)\n",
    "print(f'Gaussian distribution with minimal free-energy for double well potential is given by: ')\n",
    "print(p)\n",
    "# TODO\n"
   ]
  },
  {
   "cell_type": "markdown",
   "metadata": {
    "id": "iAF0WmnE6W26"
   },
   "source": [
    "> **Task:** How does the probability distribution that we find for the harmonic potential relate to the Boltzmann Distribution that we derived during class today? What about when we use the DoubleWell potential?\n",
    "\n",
    "**Hint:** Look at the definition of the Gaussian distribution\n",
    "$$\n",
    "\\begin{align}\n",
    "    p(x)=\\frac{1}{\\sqrt{2\\pi}\\sigma}\\exp\\left(-\\frac{1}{2\\sigma^2}(x-\\mu)^2\\right),\n",
    "\\end{align}\n",
    "$$\n",
    "and the Boltzmann distribution\n",
    "$$\n",
    "\\begin{align}\n",
    "    p(x)=\\frac{1}{Z}\\exp\\left(-\\beta H(x)\\right).\n",
    "\\end{align}\n",
    "$$\n"
   ]
  },
  {
   "cell_type": "markdown",
   "metadata": {
    "id": "OFTVJrN_8BQx"
   },
   "source": [
    "*Answer:*\n",
    "the probability distribution that we find, is a particular case of the Boltzmann distribution with,\n",
    "\n",
    "-   harmonic potential given by : $H(x)=(x-\\mu)^{2},\\quad \\ a=\\mu\\ \\ and\\ \\ b=1$\n",
    "- $\\beta=\\frac{1}{2\\sigma^{2}}$\n",
    "-  $Z=\\sqrt{2\\pi}\\sigma$\n",
    "\n",
    "When we use Double well potential, we have the following relationship,\n",
    "\n",
    "\n",
    "-   harmonic potential given by : $H(x)=(x-\\mu)^{2}\\Longrightarrow -x^{2}+x^{4}=x^{2}-2\\mu x +\\mu^{2}⇒ x^{4}-2x^{2}+2\\mu x -\\mu^{2}=0$\n",
    "- $\\beta=\\frac{1}{2\\sigma^{2}}$\n",
    "-  $Z=\\sqrt{2\\pi}\\sigma$\n"
   ]
  },
  {
   "cell_type": "markdown",
   "metadata": {
    "id": "j9GGD9GWQso6"
   },
   "source": [
    "## Section 2: Boltzmann Distribution\n",
    "As we saw in the previous section, if we parameterise the Gaussian distribution with $\\mu$ and $\\sigma$, we can find a minimal free-energy distribution. However, while in the case of a harmonic-potential the Gaussian distribution suffices, we require a more flexible family of distributions for other hamiltonians.\n",
    "\n",
    "The Boltzmann distribution is that flexible family of distributions. It describes the probability distribution with the leat amount of information assumed. The only requirement/constraint that we have for it is that given a Hamiltonian $H$, we want the Internal Energy under our optimized distribution to be equal to a predefined value $E$. Otherwise, we are free to chose any distribution that minimizes the Free-Energy.\n",
    "\n",
    "> **Task:** During the lecture Max explained that the Boltzmann distribution is a Max-Entropy distribution. However, we are now talking about minimizing the Free-Energy. Why is this not a problem? How is this different from the Free-Energy optimization we did in the previous section?\n",
    "\n",
    "\n",
    "\n",
    "\n"
   ]
  },
  {
   "cell_type": "markdown",
   "metadata": {
    "id": "SCgqlT2b8HXI"
   },
   "source": [
    "## Section 2.1: Deriving the Boltzmann Distribution\n",
    "We can derive the Boltzmann distribution by solving a constrained optimization problem using Lagrange multipliers. Following the derivation in section 2.1 of the lecture notes, we are going to skip a head to equation 2.22. At this point we have solved the KKT conditions to obtain the Boltzmann distribution\n",
    "$$\n",
    "p^{eq}(x) = \\frac{1}{\\exp(\\lambda-1)}\\exp(-\\beta H(x))\n",
    "$$\n",
    "and with $\\bar\\lambda = \\lambda - 1$ have found the normalization constant\n",
    "\\begin{align}\n",
    "    \\bar\\lambda^* = \\log Z(\\beta) = \\log\\int dx~\\exp(-\\beta H(x)).\n",
    "\\end{align}\n",
    "\n",
    "> **Task:** Implement the unnormalised version of the Boltzmann distribution in the code block below."
   ]
  },
  {
   "cell_type": "code",
   "execution_count": 24,
   "metadata": {
    "executionInfo": {
     "elapsed": 6,
     "status": "ok",
     "timestamp": 1711904563694,
     "user": {
      "displayName": "Herman Franclin TESSO TASSANG",
      "userId": "12553198285820224924"
     },
     "user_tz": -120
    },
    "id": "EikU7PsB-Wv7"
   },
   "outputs": [],
   "source": [
    "def unnormalised_boltzmann_distribution(potential, beta, x):\n",
    "  return  torch.exp(-beta*potential(x)) # TODO"
   ]
  },
  {
   "cell_type": "markdown",
   "metadata": {
    "id": "1PSTz2R5CHlG"
   },
   "source": [
    "To assist in the next steps, below we have implemented so short helper functions to determine the normalization constant, define the normalised Boltzmann distribution and to calculate expectations under the Boltzmann distribution."
   ]
  },
  {
   "cell_type": "code",
   "execution_count": 25,
   "metadata": {
    "executionInfo": {
     "elapsed": 5,
     "status": "ok",
     "timestamp": 1711904564796,
     "user": {
      "displayName": "Herman Franclin TESSO TASSANG",
      "userId": "12553198285820224924"
     },
     "user_tz": -120
    },
    "id": "qZZT6EWsWZ7I"
   },
   "outputs": [],
   "source": [
    "def normalizing_constant(potential, beta):\n",
    "  # To get the normalization constant we need to\n",
    "  xs = torch.linspace(-5, 5, 10000)\n",
    "  unn = unnormalised_boltzmann_distribution(potential, beta, xs)\n",
    "  return unn.mean() * 10\n",
    "\n",
    "def boltzmann_distribution(potential, beta, x):\n",
    "  return (1/normalizing_constant(potential, beta)) * unnormalised_boltzmann_distribution(potential, beta, x)\n",
    "\n",
    "def expectation(potential, beta, function):\n",
    "  xs = torch.linspace(-5, 5, 1000)\n",
    "  expectation = (function(xs) * boltzmann_distribution(potential, beta, xs)).mean()\n",
    "  return expectation"
   ]
  },
  {
   "cell_type": "markdown",
   "metadata": {
    "id": "9vU8HTH-WY-d"
   },
   "source": [
    "To find the the value of $\\beta$ that minimizes the free-energy for a given internal energy we are going to use a iterative gradient descent procedure as suggested in the lecture notes. For this purpose we use the gradient update step:\n",
    "\\begin{align}\n",
    "  \\beta_{t+1} &= \\beta_t + \\eta \\cdot \\frac{\\partial L_D}{\\partial \\beta} \\\\\n",
    "              &= \\beta_t + \\eta \\cdot (E - \\mathbb{E}_{p^{eq}(\\beta_t)}[H])\n",
    "\\end{align}\n",
    "\n",
    "> **Task:** Implement the iterative gradient descent procedure below."
   ]
  },
  {
   "cell_type": "code",
   "execution_count": 26,
   "metadata": {
    "executionInfo": {
     "elapsed": 4,
     "status": "ok",
     "timestamp": 1711904566807,
     "user": {
      "displayName": "Herman Franclin TESSO TASSANG",
      "userId": "12553198285820224924"
     },
     "user_tz": -120
    },
    "id": "9c4O9dbFSYiH"
   },
   "outputs": [],
   "source": [
    "def determine_optimal_beta(potential, E):\n",
    "  beta = torch.tensor(0.)\n",
    "\n",
    "  # Set the learning rate\n",
    "  lr = 0.1\n",
    "\n",
    "  for _ in tqdm(range(10000)):\n",
    "    # Calculate Gradient eq. (2.22)\n",
    "    internal_energy =  expectation(potential, beta, potential) # TODO\n",
    "    grad =E-internal_energy # TODO\n",
    "\n",
    "    # Update beta\n",
    "    beta =beta-lr*grad # TODO\n",
    "\n",
    "    # print(beta, internal_energy)\n",
    "  return beta"
   ]
  },
  {
   "cell_type": "markdown",
   "metadata": {
    "id": "5Bm7-KQfSYaE"
   },
   "source": [
    "**Checkpoint:** The codeblock below should give the following output:\n",
    "```\n",
    "100%|██████████| 10000/10000 [00:11<00:00, 863.85it/s]\n",
    "tensor(0.9452)\n",
    "```"
   ]
  },
  {
   "cell_type": "code",
   "execution_count": 29,
   "metadata": {
    "colab": {
     "base_uri": "https://localhost:8080/",
     "height": 71
    },
    "executionInfo": {
     "elapsed": 5141,
     "status": "ok",
     "timestamp": 1711904585550,
     "user": {
      "displayName": "Herman Franclin TESSO TASSANG",
      "userId": "12553198285820224924"
     },
     "user_tz": -120
    },
    "id": "CcktHdwSENAq",
    "outputId": "932f513c-c401-4cb1-b6a7-c5c165ce4109"
   },
   "outputs": [
    {
     "name": "stderr",
     "output_type": "stream",
     "text": [
      "100%|██████████| 10000/10000 [00:05<00:00, 1991.18it/s]"
     ]
    },
    {
     "name": "stdout",
     "output_type": "stream",
     "text": [
      "\n",
      "tensor(0.9452)\n"
     ]
    },
    {
     "name": "stderr",
     "output_type": "stream",
     "text": [
      "\n"
     ]
    }
   ],
   "source": [
    "reset_seeds()\n",
    "\n",
    "E = 0.\n",
    "beta = determine_optimal_beta(double_well_potential(), E)\n",
    "print()\n",
    "print(beta)"
   ]
  },
  {
   "cell_type": "markdown",
   "metadata": {
    "id": "hHw3USJ8EtjN"
   },
   "source": [
    "During the lecture we discussed how in physics we interpret $\\beta$ as the inverse temperature:\n",
    "$$\n",
    "  \\beta = \\frac{1}{T}.\n",
    "$$\n",
    "\n",
    "While it is important to realise that it is actually the internal energy $E$ that defines the temperature $T$, in most cases in machine learning it is acceptable to argue the other way around. For a given $T$ and hamiltonian $H$, we can derive the internal energy, entropy and free-energy under the Boltzmann distribution.\n",
    "\n",
    "> Task: Plot the internal energy, entropy and free-energy as a function of $T$ for the double well potential. Do you observe any patterns?"
   ]
  },
  {
   "cell_type": "code",
   "execution_count": 46,
   "metadata": {
    "executionInfo": {
     "elapsed": 416,
     "status": "ok",
     "timestamp": 1711905669781,
     "user": {
      "displayName": "Herman Franclin TESSO TASSANG",
      "userId": "12553198285820224924"
     },
     "user_tz": -120
    },
    "id": "26BcmBbSOvU4"
   },
   "outputs": [],
   "source": [
    "# temperature\n",
    "T=torch.linspace(0.1,200,300)\n",
    "\n",
    "#define the log of the Boltzmann distribution to compute the Entropy\n",
    "def log_Boltzmann_dist (x):\n",
    "  return torch.log(boltzmann_distribution(potential, beta, x))\n",
    "\n",
    "internal_energy=[]\n",
    "entropy=[]\n",
    "free_energy=[]\n",
    "for t in T:\n",
    "  # internal energy\n",
    "  u=expectation(double_well_potential(), 1/t, double_well_potential())\n",
    "  internal_energy.append(u)\n",
    "  ## Entropy\n",
    "  s=-expectation(double_well_potential(), 1/t, log_Boltzmann_dist)\n",
    "  entropy.append(s)\n",
    "  #free_energy = internal_energy-entropy\n",
    "  free_energy.append(u-t*s)\n",
    "# Todo\n"
   ]
  },
  {
   "cell_type": "code",
   "execution_count": 47,
   "metadata": {
    "colab": {
     "base_uri": "https://localhost:8080/",
     "height": 449
    },
    "executionInfo": {
     "elapsed": 678,
     "status": "ok",
     "timestamp": 1711905672943,
     "user": {
      "displayName": "Herman Franclin TESSO TASSANG",
      "userId": "12553198285820224924"
     },
     "user_tz": -120
    },
    "id": "G-HLQjsdy8O4",
    "outputId": "885849f5-1eaf-41cb-c58e-5e1c4abc92c9"
   },
   "outputs": [
    {
     "data": {
      "image/png": "[encoded data removed]",
      "text/plain": [
       "<Figure size 640x480 with 1 Axes>"
      ]
     },
     "metadata": {},
     "output_type": "display_data"
    }
   ],
   "source": [
    "%matplotlib inline\n",
    "plt.plot(T,torch.tensor(internal_energy),label=\"internal energy\")\n",
    "plt.plot(T,torch.tensor(entropy),label=\"Entropy\")\n",
    "plt.plot(T,torch.tensor(free_energy),label=\"Free-energy\")\n",
    "plt.legend()\n",
    "plt.xlabel('temperature')\n",
    "plt.show()\n"
   ]
  },
  {
   "cell_type": "markdown",
   "metadata": {
    "id": "arPz0L2O5vau"
   },
   "source": [
    "*Answer:*\n",
    "\n",
    "The free energy decrease as the temperature increase.\n",
    "the internal energy increase slighly go away from zero whereas the entropy remain constant.\n"
   ]
  },
  {
   "cell_type": "markdown",
   "metadata": {
    "id": "jhwl4XlwMY8R"
   },
   "source": [
    "## Extensions\n",
    "If you want to explore the topics discussed in this assignment further, consider looking at one of the below variations of the assigment:\n",
    "- We have so far considered two different potential functions, the harmonic and the double well potentials. Try to think of another potential and see how the boltzmann distribution changes with $T$."
   ]
  }
 ],
 "metadata": {
  "colab": {
   "provenance": [
    {
     "file_id": "1C-kBYAnUSl-F2SM2W1cZvgycVYaT0ESY",
     "timestamp": 1711727007666
    },
    {
     "file_id": "1clGb6TRTTEQU1L3Acyz53ryB-p_xqZyK",
     "timestamp": 1711565671088
    },
    {
     "file_id": "1gAEapOJWewDH4x7lqOK9VWIO3R_7IDrN",
     "timestamp": 1711463505939
    }
   ]
  },
  "kernelspec": {
   "display_name": "Python 3 (ipykernel)",
   "language": "python",
   "name": "python3"
  },
  "language_info": {
   "codemirror_mode": {
    "name": "ipython",
    "version": 3
   },
   "file_extension": ".py",
   "mimetype": "text/x-python",
   "name": "python",
   "nbconvert_exporter": "python",
   "pygments_lexer": "ipython3",
   "version": "3.11.2"
  }
 },
 "nbformat": 4,
 "nbformat_minor": 1
}

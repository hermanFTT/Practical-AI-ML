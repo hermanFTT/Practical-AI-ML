{
 "cells": [
  {
   "cell_type": "markdown",
   "metadata": {
    "id": "dQHA0np79aCA"
   },
   "source": [
    "# Preamble\n",
    "The codeblocks below are there to important the right packages, provide some helper functions, and hardcode a number of often used values. If you find yourself needed to make adjustments to these codeblocks to make the code work, please let us know as this most likely means that something has gone wrong in our implementation."
   ]
  },
  {
   "cell_type": "code",
   "execution_count": null,
   "metadata": {
    "id": "lnN8MQFmPbc5"
   },
   "outputs": [],
   "source": [
    "import torch\n",
    "import numpy as np\n",
    "\n",
    "import torch.distributions as D"
   ]
  },
  {
   "cell_type": "code",
   "execution_count": null,
   "metadata": {
    "id": "Lz_4BTCJO9HZ"
   },
   "outputs": [],
   "source": [
    "def reset_seeds(seed=42):\n",
    "  torch.manual_seed(seed)\n",
    "  torch.cuda.manual_seed(seed)\n",
    "  torch.backends.cudnn.deterministic = True\n",
    "  np.random.seed(seed)\n",
    "\n",
    "# Number of samples used for MC integration\n",
    "N = 1000000"
   ]
  },
  {
   "cell_type": "markdown",
   "metadata": {
    "id": "_-R-aUYo0YnR"
   },
   "source": [
    "# Administrative Information\n",
    "Below you will find the code assignment accompanying our second day of lecturing. In the following 3 weeks we will be publishing an assignment like this (almost) every day with the purpose of strengthening your understanding of the concepts and to build some intuition around them. None of the tasks set are supposed to be extremely challenging and if you do run into any problems, chances are high that this is due to unclarity on our side. As such, if you are stuck on a task for a longer time (15+ minutes), do please reach out to lars@aims.ac.za\n",
    "\n",
    "For the submission of the code at the end of the week, we suggest to save a copy to your own drive and work from there.\n",
    "\n",
    "The notebooks are roughly structured as follows:\n",
    "- Coding tasks and questions are mixed together and are highlighted by the keyword: \"**Task**\".\n",
    "- Depending on what the task is acking for, the task will be followed by either a codeblock containing some pre-writen helper code and a `#Todo` flag after which you can add your implementation, or a markdown block containing the keyword \"*Answer:*\" for you to provide your answer.\n",
    "- Some tasks are followed by a \"**Hint:**\" which will contain some extra instructions for the coding implementations, or it might point you towards the right answer to a question.\n",
    "- At the end of each notebook we will have a short section with additional challenging extensions that you could choose to work on if you found a topic interesting. Please note that you are not required to do these extensions. Solving one or more of the extensions does **not** by definition result in a higher grade for the course.\n",
    "\n",
    "Lastly, to help us in improving the coding assignments in the following weeks, please fill in the anonymous feedback [form](https://forms.gle/vVBXm7nhW94yMkHr8). We highly appreciate your feedback, positive and negative!"
   ]
  },
  {
   "cell_type": "markdown",
   "metadata": {
    "id": "QStAmvkMaUb0"
   },
   "source": [
    "# Expected Energy, Entropy and Free-Energy\n",
    "During yesterdays and todays lecture the concepts of Expected Energy, Entropy and Free-Energy were mentiond a number of times. These are fundamental concepts in the realm of Statistical Physics, and, as we will highlight throughout the rest of this course, also play a central role in Machine Learning. Having a clear understanding of how these key concepts are defined will thus be an important step in building intuition about the relationships between the two fields that we will be exploring.\n",
    "\n",
    "The following coding tasks and related questions are designed to help build that understanding. But first, we will restate their definitions here;\n",
    "\n",
    "*Note: As we observed during the lecture, there was a sign error in these equations. Updates as of 27 March 2024 5:30pm*\n",
    "\n",
    "\n",
    "**Internal Energy / Expected Energy**\n",
    "$$\n",
    "{U}[p] =  \\int dx p(x) {H}(x)\n",
    "$$\n",
    "\n",
    "**Entropy**\n",
    "$$\n",
    "S[p] = - \\int dx p(x) \\log p(x)\n",
    "$$\n",
    "\n",
    "**Free-Energy**\n",
    "$$\n",
    "{F}[p] = U[p] - T {S}[p]\n",
    "$$\n",
    "\n",
    "For the purpose of this assignent we can ignore the temperature and set $T = 1$."
   ]
  },
  {
   "cell_type": "markdown",
   "metadata": {
    "id": "ftxZ8E72dfce"
   },
   "source": [
    "## Task 1.1: Implement U, S and F\n",
    "With the definitions given above, our first step in building intuition of these concepts is to implement them and to see how they change depending on the choise of distribution $\\rho$ and Hamiltonian ${H}$.\n",
    "\n",
    "> **Task**: In the codeblock below, we have given the skeletons of three functions to calculate the Internal Energy, the Entropy and the Free-Energy, respectively. It's your task to implement the definitions above using a Monte Carlo approximations.\n",
    "\n",
    "**Hint:** If you shortly look at the codeblock below, you will see that the argument passed to the distribution parameter is a [torch.distribution](https://pytorch.org/docs/stable/distributions.html) object. You can therefore assume in your implementation that you can sample from this distribution using the `p.sample((N,))`. For the purpose of this codebook, we have hardcoded `N = 1000`. This should suffice to get accurate estimates."
   ]
  },
  {
   "cell_type": "code",
   "execution_count": null,
   "metadata": {
    "id": "Ptv6TKVX3Q0l"
   },
   "outputs": [],
   "source": [
    "def U(p, H):\n",
    "  samples = p.sample((N,))\n",
    "  U=H(samples).mean()\n",
    "  # TODO\n",
    "  return U\n",
    "\n",
    "def S(p):\n",
    "  samples = p.sample((N,))\n",
    "  S=-torch.log(p.log_prob(samples).exp()).mean()\n",
    "  # TODO\n",
    "  return S\n",
    "\n",
    "def F(p, H):\n",
    "  u=U(p, H)\n",
    "  s=S(p)\n",
    "  F=u-s\n",
    "  return F"
   ]
  },
  {
   "cell_type": "markdown",
   "metadata": {
    "id": "gbeAdM1Zf-KN"
   },
   "source": [
    "**Checkpoint**: We will need the code you have created above throughout the rest of the practical. Please run the code below to see if your implementation is correct. You should get the following output:\n",
    "\n",
    "```\n",
    "tensor(0.8666)\n",
    "tensor(0.6931)\n",
    "tensor(0.1735)\n",
    "```"
   ]
  },
  {
   "cell_type": "code",
   "execution_count": null,
   "metadata": {
    "colab": {
     "base_uri": "https://localhost:8080/"
    },
    "executionInfo": {
     "elapsed": 1217,
     "status": "ok",
     "timestamp": 1711725120647,
     "user": {
      "displayName": "Herman Franclin TESSO TASSANG",
      "userId": "12553198285820224924"
     },
     "user_tz": -120
    },
    "id": "vcVMTQT0aT4D",
    "outputId": "6a4b219d-6518-49ca-80e7-02ccfbfe62e3"
   },
   "outputs": [
    {
     "name": "stdout",
     "output_type": "stream",
     "text": [
      "tensor(0.8666)\n",
      "tensor(0.6931)\n",
      "tensor(0.1735)\n"
     ]
    }
   ],
   "source": [
    "reset_seeds()\n",
    "\n",
    "double_well_potential = lambda x: -x**2 + x**4 + 1\n",
    "uniform_distribution = D.Uniform(-1, 1)\n",
    "\n",
    "internal_energy = U(uniform_distribution, double_well_potential)\n",
    "entropy = S(uniform_distribution)\n",
    "free_energy = F(uniform_distribution, double_well_potential)\n",
    "\n",
    "print(internal_energy)\n",
    "print(entropy)\n",
    "print(free_energy)"
   ]
  },
  {
   "cell_type": "markdown",
   "metadata": {
    "id": "j9GGD9GWQso6"
   },
   "source": [
    "## Task 1.2: Calculating U, S and F for different hamiltonians\n",
    "Now that we have implemented functions for calculating the internal energy (U), the entropy (S), and the Free-Energy(F), we are going to consider two different Hamiltonians and see how they differ. The two Hamiltonians that we consider will be;\n",
    "- Harmonic Potential: ${H}(x) = b(x-a)^2$\n",
    "- Double Well Potential: ${H}(x) = x^4 - x^2$\n",
    "\n",
    "In the next weeks we will see these Hamiltonians pop up a number of times.\n",
    "\n",
    "We have implemented these Hamiltonians below and plotted them for different values of a and b.\n",
    "\n",
    "> **Task**: Intuitively, how do you think the choise for a and b will impact the internal energy, the entropy and the Free-Energy?"
   ]
  },
  {
   "cell_type": "markdown",
   "metadata": {
    "id": "arPz0L2O5vau"
   },
   "source": [
    "*Answer:*\n",
    "The Harmonic potential is directly proportionnal to '$b\\ $'; '$\\ a$' indicates the equilibruim position of the system (i.e at x=a, the system has the lowest potential energy).the Harmonic potential increase quadratically with '$b$'.\n",
    "\n",
    "So, the larger the parameter '$b$' the higher the internal energy of the system.Therefore the free-energy of the system will be more likely to increase according to how disperse the energy of the system is (Entropy).\n",
    "\n",
    "As '$a$' controls the location of the equilibruim position and determine the wideness of the U-shape , it will also contribute on increasing the internal energy and therefore the Free-energy.\n",
    "\n",
    "However, $a$ and $b$ will not directly affect the Entropy.\n"
   ]
  },
  {
   "cell_type": "code",
   "execution_count": null,
   "metadata": {
    "id": "1mOBlzofEAAe"
   },
   "outputs": [],
   "source": [
    "def harmonic_potential(a, b):\n",
    "  return lambda x: b * (x - a)**2\n",
    "\n",
    "def double_well_potential():\n",
    "  return lambda x: -x**2 + x**4"
   ]
  },
  {
   "cell_type": "code",
   "execution_count": null,
   "metadata": {
    "colab": {
     "base_uri": "https://localhost:8080/",
     "height": 448
    },
    "executionInfo": {
     "elapsed": 2544,
     "status": "ok",
     "timestamp": 1711725123188,
     "user": {
      "displayName": "Herman Franclin TESSO TASSANG",
      "userId": "12553198285820224924"
     },
     "user_tz": -120
    },
    "id": "lQ0_9Jv0RJZ9",
    "outputId": "15b7922f-571e-4fb1-ca57-aa182bbcd24f"
   },
   "outputs": [
    {
     "data": {
      "text/plain": [
       "(-2.0, 2.0)"
      ]
     },
     "execution_count": 6,
     "metadata": {},
     "output_type": "execute_result"
    },
    {
     "data": {
      "image/png": "[encoded data removed]",
      "text/plain": [
       "<Figure size 640x480 with 1 Axes>"
      ]
     },
     "metadata": {},
     "output_type": "display_data"
    }
   ],
   "source": [
    "import matplotlib.pyplot as plt\n",
    "import torch\n",
    "\n",
    "xs = torch.linspace(-2, 2, 100)\n",
    "\n",
    "ys_0_1 = harmonic_potential(0, 1)(xs)\n",
    "ys_1_1 = harmonic_potential(1, 1)(xs)\n",
    "ys_0_2 = harmonic_potential(0, 2)(xs)\n",
    "ys_double = double_well_potential()(xs)\n",
    "\n",
    "\n",
    "plt.plot(xs, ys_0_1, label='Harmonic (a=0, b=1)')\n",
    "plt.plot(xs, ys_1_1, label='Harmonic (a=1, b=1)')\n",
    "plt.plot(xs, ys_0_2, label='Harmonic (a=0, b=2)')\n",
    "plt.plot(xs, ys_double, label='Double Well')\n",
    "plt.legend()\n",
    "plt.xlim(-2, 2)"
   ]
  },
  {
   "cell_type": "markdown",
   "metadata": {
    "id": "KE_j8MqPUPy0"
   },
   "source": [
    "> **Task**: Using a simple Gaussian Distribution with zero mean and unit variance, try to answer the following questions about how Internal Energy, Entropy and Free-Energy change for different Hamiltonians. For each question, try to provide a seperate code-block with a small experiment that validates your answer. Or, if possible, try to give an explanation.\n",
    "- Comparing a standard Harmonic Potential (a=0, b=1) with the double well potential, which one has the lowest Internal Energy, Entropy and Free-Energy?\n",
    "- For the Harmonic Potential, what happens to the Internal Energy, Entropy and Free-Energy when we change the center of the trap (change a)?\n",
    "- For the Harmonic Potential, what happens to the Internal Energy, Entropy and Free-Energy when we change the scaling of the trap (change b)?\n",
    "- How, if at all possible, would we need to change the Hamiltonian to change the Entropy?\n",
    "\n",
    "**Hint:** The short codeblock below shows how to calculate the free-energy with the Gaussian Distribution and the Harmonic Potential. Try to replicate this a number of times for different values of a and b."
   ]
  },
  {
   "cell_type": "markdown",
   "metadata": {
    "id": "PrtOTo546Kx4"
   },
   "source": [
    "*Answer:* \\<Answer goes here>\n",
    "\n",
    "\n",
    "1.   The standard Harmonic Potential has the Lowest Internal Energy and Free-energy. However both have roughly the same Entropy.\n",
    "2.   When we increase the center of the trap '$a$'  for the Harmonic potential , the Internal energy and the free-energy become larger as well. they increase fastly. However the Entropy is not significantly affected by the changing of this parameter.\n",
    "3. The larger the scaling parameter '$b$' the higher the Internal energy and the free energy, but both quantities in this case increase slowly.Once again, the Entropy is not affected by the scaling parameter.\n",
    "4. The Entropy depend on the degree of desorder in the system model by the Gaussian distribution in our case. Therefore the change in hamiltonian does not affect the Entropy. For the Hamiltonian to affect the Entropy, the distribution used must depend of it, in oder world we should used the *Botzmann distribution*.\n",
    "\n"
   ]
  },
  {
   "cell_type": "code",
   "execution_count": null,
   "metadata": {
    "colab": {
     "base_uri": "https://localhost:8080/"
    },
    "executionInfo": {
     "elapsed": 412,
     "status": "ok",
     "timestamp": 1711725124696,
     "user": {
      "displayName": "Herman Franclin TESSO TASSANG",
      "userId": "12553198285820224924"
     },
     "user_tz": -120
    },
    "id": "fzFcXFKi6cOD",
    "outputId": "e53703cb-b99d-4b31-f95b-714eced6637b"
   },
   "outputs": [
    {
     "name": "stdout",
     "output_type": "stream",
     "text": [
      "internal energy Harmonic potential=0.9996252059936523\n",
      "\n",
      "entropy Harmonic potential=1.4182628393173218\n",
      "\n",
      "Free-energy harmonic potential=-0.4199320077896118\n",
      "\n",
      "internal energy double well=1.999763011932373\n",
      "\n",
      "entropy double well =1.4191465377807617\n",
      "\n",
      "Free-energy double well =0.5765870809555054\n"
     ]
    }
   ],
   "source": [
    "#@title standard Harmonic Potential (a=0, b=1) vs the double well\n",
    "a = 0\n",
    "b = 1\n",
    "distribution = D.Normal(0, 1)\n",
    "#internal energy Harmonic potential\n",
    "print(f\"internal energy Harmonic potential={U(p=distribution, H=harmonic_potential(a, b))}\")\n",
    "print('')\n",
    "#entropy Harmonic potential\n",
    "print(f\"entropy Harmonic potential={S(distribution)}\")\n",
    "print('')\n",
    "# Free-energy harmonic potential\n",
    "print(f\"Free-energy harmonic potential={ F(distribution, harmonic_potential(a, b))}\")\n",
    "print('')\n",
    "\n",
    "#internal energy Double well potential\n",
    "print(f\"internal energy double well={U(p=distribution, H=double_well_potential())}\")\n",
    "print('')\n",
    "#entropy Double well potential\n",
    "print(f\"entropy double well ={S(distribution)}\")\n",
    "print('')\n",
    "# Free-energy double well potential\n",
    "print(f\"Free-energy double well ={ F(distribution, double_well_potential())}\")\n",
    "\n",
    "# TODO"
   ]
  },
  {
   "cell_type": "code",
   "execution_count": null,
   "metadata": {
    "colab": {
     "base_uri": "https://localhost:8080/"
    },
    "executionInfo": {
     "elapsed": 411,
     "status": "ok",
     "timestamp": 1711725868869,
     "user": {
      "displayName": "Herman Franclin TESSO TASSANG",
      "userId": "12553198285820224924"
     },
     "user_tz": -120
    },
    "id": "06vWytDL_Trh",
    "outputId": "b973636d-1c62-46ea-9c9b-2989e55beba6"
   },
   "outputs": [
    {
     "name": "stdout",
     "output_type": "stream",
     "text": [
      "internal energy Harmonic potential= 10.004199981689453\n",
      "\n",
      "entropy Harmonic potential= 1.4201756715774536\n",
      "\n",
      "Free-energy harmonic potential= 8.576509475708008\n",
      "\n"
     ]
    }
   ],
   "source": [
    "#@title varying the equilibruim position ( center of the trap ) a : (interactive slider) {run: \"auto\"}\n",
    "a = 3 #@param{type:\"slider\", min:0, max:10, step:1}\n",
    "b = 1\n",
    "distribution = D.Normal(0, 1)\n",
    "#internal energy Harmonic potential\n",
    "print(f\"internal energy Harmonic potential= {U(p=distribution, H=harmonic_potential(a, b))}\")\n",
    "print('')\n",
    "#entropy Harmonic potential\n",
    "print(f\"entropy Harmonic potential= {S(distribution)}\")\n",
    "print('')\n",
    "# Free-energy harmonic potential\n",
    "print(f\"Free-energy harmonic potential= { F(distribution, harmonic_potential(a, b))}\")\n",
    "print('')"
   ]
  },
  {
   "cell_type": "code",
   "execution_count": null,
   "metadata": {
    "colab": {
     "base_uri": "https://localhost:8080/"
    },
    "executionInfo": {
     "elapsed": 5,
     "status": "ok",
     "timestamp": 1711725861867,
     "user": {
      "displayName": "Herman Franclin TESSO TASSANG",
      "userId": "12553198285820224924"
     },
     "user_tz": -120
    },
    "id": "-EuxaAB_BnHg",
    "outputId": "9b09ff10-080c-4a18-df30-dc21f130bf6c"
   },
   "outputs": [
    {
     "name": "stdout",
     "output_type": "stream",
     "text": [
      "internal energy Harmonic potential= 6.999293804168701\n",
      "\n",
      "entropy Harmonic potential= 1.4186280965805054\n",
      "\n",
      "Free-energy harmonic potential= 5.578008651733398\n",
      "\n"
     ]
    }
   ],
   "source": [
    "#@title varying the scale of the trap ( change b ) :(interactive slider)  {run: \"auto\"}\n",
    "a = 0\n",
    "b = 6 #@param{type:\"slider\", min:1, max:10, step:1}\n",
    "distribution = D.Normal(0, 1)\n",
    "#internal energy Harmonic potential\n",
    "print(f\"internal energy Harmonic potential= {U(p=distribution, H=harmonic_potential(a, b))}\")\n",
    "print('')\n",
    "#entropy Harmonic potential\n",
    "print(f\"entropy Harmonic potential= {S(distribution)}\")\n",
    "print('')\n",
    "# Free-energy harmonic potential\n",
    "print(f\"Free-energy harmonic potential= { F(distribution, harmonic_potential(a, b))}\")\n",
    "print('')"
   ]
  },
  {
   "cell_type": "markdown",
   "metadata": {
    "id": "DHl0Kz5cXXta"
   },
   "source": [
    "## Task 1.3: Calculating U, S and F for different probability distributions\n",
    "In the previous step we have kept the probability distribution fixed while we experimented with different Hamiltonians. Now, instead, we will be experimenting with different probability distributions while we keep the hamiltonian fixed and see how the internal energy, entropy and free-energy change. For this purpose, we will first consider the standard Harmonic potential with a=0 and b=1.\n",
    "\n",
    "> **Task**: Consider a Gaussian distribution with mean $\\mu$ and variance $\\sigma^2$. Try to answer the following questions about how Internal Energy, Entropy and Free-Energy change for different values of $\\mu$ and $\\sigma^2$ while we keep a=0 and b=1 fixed for the Harmonic potential. For each question, try to provide a seperate code-block with a small experiment that validates your answer. Or, if possible, try to give an explanation.\n",
    "- What happens to the Internal Energy, Entropy and Free-Energy when we change the mean $\\mu$?\n",
    "- What happens to the Internal Energy, Entropy and Free-Energy when we change the variance $\\sigma$?"
   ]
  },
  {
   "cell_type": "markdown",
   "metadata": {
    "id": "pOk2Oryr6Zk9"
   },
   "source": [
    "*Answer:*\n",
    "1. As the mean $\\mu$ get closer to zero, both the Internal energy and the free-energy decrease ( the free-energy become negative).; conversely, when the mean moves away from zero, they both increase. The entropy does not change very much however; it roughly the same.\n",
    "\n",
    "2. increase the  variance $\\sigma$ result to and to an increasing of the Internal energy, Entropy energy as well as the free-energy."
   ]
  },
  {
   "cell_type": "code",
   "execution_count": null,
   "metadata": {
    "colab": {
     "base_uri": "https://localhost:8080/"
    },
    "executionInfo": {
     "elapsed": 640,
     "status": "ok",
     "timestamp": 1711725817180,
     "user": {
      "displayName": "Herman Franclin TESSO TASSANG",
      "userId": "12553198285820224924"
     },
     "user_tz": -120
    },
    "id": "MQ5GVJwoXWuv",
    "outputId": "93088791-9a67-4edb-b591-fa79fcab59a3"
   },
   "outputs": [
    {
     "name": "stdout",
     "output_type": "stream",
     "text": [
      "internal energy Harmonic potential=2.9607226848602295\n",
      "\n",
      "entropy Harmonic potential=1.4183495044708252\n",
      "\n",
      "Free-energy harmonic potential=1.5414189100265503\n",
      "\n"
     ]
    }
   ],
   "source": [
    "#@title varying the mean of the Gaussian distribution: (interactif slider)  {run:\"auto\"}\n",
    "mu = 1.4 # @param{type:\"slider\", min:-3, max:3, step:0.1}\n",
    "sigma= 1\n",
    "distribution = D.Normal(mu, sigma)\n",
    "potential = harmonic_potential(0, 1)\n",
    "#internal energy Harmonic potential\n",
    "print(f\"internal energy Harmonic potential={U(p=distribution, H=potential)}\")\n",
    "print('')\n",
    "#entropy Harmonic potential\n",
    "print(f\"entropy Harmonic potential={S(distribution)}\")\n",
    "print('')\n",
    "# Free-energy harmonic potential\n",
    "print(f\"Free-energy harmonic potential={ F(distribution,potential)}\")\n",
    "print('')\n",
    "\n",
    "# Todo"
   ]
  },
  {
   "cell_type": "code",
   "execution_count": null,
   "metadata": {
    "colab": {
     "base_uri": "https://localhost:8080/"
    },
    "executionInfo": {
     "elapsed": 462,
     "status": "ok",
     "timestamp": 1711726115969,
     "user": {
      "displayName": "Herman Franclin TESSO TASSANG",
      "userId": "12553198285820224924"
     },
     "user_tz": -120
    },
    "id": "bN9tXBvsHdAy",
    "outputId": "3d4da554-c220-4239-8326-c91211cd33ef"
   },
   "outputs": [
    {
     "name": "stdout",
     "output_type": "stream",
     "text": [
      "internal energy Harmonic potential=15.228128433227539\n",
      "\n",
      "entropy Harmonic potential=2.779956579208374\n",
      "\n",
      "Free-energy harmonic potential=12.418756484985352\n",
      "\n"
     ]
    }
   ],
   "source": [
    "#@title varying the scale $\\sigma$ of the Gaussian distribution: (interactif slider)  {run:\"auto\"}\n",
    "mu = 0\n",
    "sig=3.9 #@param{type:\"slider\", min:1, max:5, step:0.1}\n",
    "distribution = D.Normal(mu, sig)\n",
    "potential = harmonic_potential(0, 1)\n",
    "#internal energy Harmonic potential\n",
    "print(f\"internal energy Harmonic potential={U(p=distribution, H=potential)}\")\n",
    "print('')\n",
    "#entropy Harmonic potential\n",
    "print(f\"entropy Harmonic potential={S(distribution)}\")\n",
    "print('')\n",
    "# Free-energy harmonic potential\n",
    "print(f\"Free-energy harmonic potential={ F(distribution,potential)}\")\n",
    "print('')"
   ]
  },
  {
   "cell_type": "markdown",
   "metadata": {
    "id": "jhwl4XlwMY8R"
   },
   "source": [
    "## Extensions\n",
    "If you want to explore the topics discussed in this assignment further, consider looking at one of the below variations of the assigment:\n",
    "- So far we have only considered 1-dimensional Hamiltonians and probability distributions. How would you change the code to also work for 2-dimensional, or even higher dimensional, problems?"
   ]
  }
 ],
 "metadata": {
  "colab": {
   "collapsed_sections": [
    "dQHA0np79aCA"
   ],
   "provenance": [
    {
     "file_id": "1iXqTOiVat9kVGk1PmU8e6gpZuA8TyiJ2",
     "timestamp": 1711655652650
    },
    {
     "file_id": "1gAEapOJWewDH4x7lqOK9VWIO3R_7IDrN",
     "timestamp": 1711463505939
    }
   ]
  },
  "kernelspec": {
   "display_name": "Python 3 (ipykernel)",
   "language": "python",
   "name": "python3"
  },
  "language_info": {
   "codemirror_mode": {
    "name": "ipython",
    "version": 3
   },
   "file_extension": ".py",
   "mimetype": "text/x-python",
   "name": "python",
   "nbconvert_exporter": "python",
   "pygments_lexer": "ipython3",
   "version": "3.11.2"
  }
 },
 "nbformat": 4,
 "nbformat_minor": 1
}

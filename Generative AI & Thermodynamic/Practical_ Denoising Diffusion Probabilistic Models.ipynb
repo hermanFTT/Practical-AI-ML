{
 "cells": [
  {
   "cell_type": "markdown",
   "metadata": {
    "id": "dQHA0np79aCA"
   },
   "source": [
    "# Preamble\n",
    "The codeblocks below are there to important the right packages, provide some helper functions, and hardcode a number of often used values. If you find yourself needed to make adjustments to these codeblocks to make the code work, please let us know as this most likely means that something has gone wrong in our implementation."
   ]
  },
  {
   "cell_type": "code",
   "execution_count": 1,
   "metadata": {
    "executionInfo": {
     "elapsed": 6224,
     "status": "ok",
     "timestamp": 1712430128659,
     "user": {
      "displayName": "Herman Franclin TESSO TASSANG",
      "userId": "12553198285820224924"
     },
     "user_tz": -120
    },
    "id": "lnN8MQFmPbc5"
   },
   "outputs": [],
   "source": [
    "%matplotlib inline\n",
    "\n",
    "import torch\n",
    "import torch.nn as nn\n",
    "import torch.optim as optim\n",
    "import torch.nn.functional as F\n",
    "import numpy as np\n",
    "\n",
    "from tqdm import tqdm\n",
    "\n",
    "import torch.distributions as D\n",
    "\n",
    "import matplotlib\n",
    "import matplotlib.pyplot as plt\n",
    "from matplotlib import animation\n",
    "\n",
    "from scipy.stats import multivariate_normal\n",
    "from matplotlib.animation import FuncAnimation\n",
    "from IPython.display import HTML"
   ]
  },
  {
   "cell_type": "code",
   "execution_count": 2,
   "metadata": {
    "executionInfo": {
     "elapsed": 5,
     "status": "ok",
     "timestamp": 1712430128659,
     "user": {
      "displayName": "Herman Franclin TESSO TASSANG",
      "userId": "12553198285820224924"
     },
     "user_tz": -120
    },
    "id": "Lz_4BTCJO9HZ"
   },
   "outputs": [],
   "source": [
    "def reset_seeds(seed=42):\n",
    "  torch.manual_seed(seed)\n",
    "  torch.cuda.manual_seed(seed)\n",
    "  torch.backends.cudnn.deterministic = True\n",
    "  np.random.seed(seed)"
   ]
  },
  {
   "cell_type": "code",
   "execution_count": 3,
   "metadata": {
    "executionInfo": {
     "elapsed": 4,
     "status": "ok",
     "timestamp": 1712430128659,
     "user": {
      "displayName": "Herman Franclin TESSO TASSANG",
      "userId": "12553198285820224924"
     },
     "user_tz": -120
    },
    "id": "AciDMFi60yeX"
   },
   "outputs": [],
   "source": [
    "def plot(history, direction = 1):# Select indices of points to track\n",
    "  track_indices = [0, 230, 401]\n",
    "\n",
    "  fig, ax = plt.subplots()\n",
    "\n",
    "  # Initialize tracking lines with empty data\n",
    "  tracking_lines = [ax.plot([], [], 'k-', linewidth=1, alpha=0.5)[0] for _ in track_indices]\n",
    "  point_scatters = [ax.plot([], [], 'o', markersize=10)[0] for _ in track_indices]\n",
    "\n",
    "  def init():\n",
    "      ax.set_xlim(-3, 3)\n",
    "      ax.set_ylim(-3, 3)\n",
    "      return tracking_lines + point_scatters\n",
    "\n",
    "  def update(tmp):\n",
    "      t = int(tmp*(T/100))\n",
    "      if direction < 0:\n",
    "          t = T - 1 - t\n",
    "\n",
    "      ax.clear()  # Clear the axes to remove past points\n",
    "      ax.set_xlim(-3, 3)\n",
    "      ax.set_ylim(-3, 3)\n",
    "\n",
    "      # Plot all current points with a subtle color for background\n",
    "      s = torch.randint(n_data, (500,))\n",
    "      ax.scatter(history[t, s, 0].numpy(), history[t, s, 1].numpy(), s=10, alpha=0.6, color='#0a0a0a')\n",
    "\n",
    "      # Color scheme for the tracked points and lines\n",
    "      colors = ['#d62728', '#2ca02c', '#1f77b4']  # Red, Green, Blue\n",
    "\n",
    "      # Update tracking lines and current positions for tracked points\n",
    "      if direction > 0:\n",
    "        for i, (line, scatter, index) in enumerate(zip(tracking_lines, point_scatters, track_indices)):\n",
    "            if direction < 0:\n",
    "                xdata = history[T-t-1:T, index, 0]\n",
    "                ydata = history[T-t-1:T, index, 1]\n",
    "            else:\n",
    "                xdata = history[:t+1, index, 0].numpy()\n",
    "                ydata = history[:t+1, index, 1].numpy()\n",
    "\n",
    "            # Redraw tracking line with specified color and bring it to the front (zorder)\n",
    "            ax.plot(xdata, ydata, '-', linewidth=2, alpha=0.8, color=colors[i], zorder=2)\n",
    "\n",
    "            # Update and redraw current position with a matching color and larger size\n",
    "            ax.plot(xdata[-1:], ydata[-1:], 'o', markersize=12, color=colors[i], zorder=3)\n",
    "\n",
    "      # Reapply labels, titles, or custom settings here since ax.clear() removes them\n",
    "      ax.set_xlabel('Dimension 1')\n",
    "      ax.set_ylabel('Dimension 2')\n",
    "      ax.set_title('Diffusion Process Over Time')\n",
    "      ax.grid(True, which='both', linestyle='--', linewidth=0.5, alpha=0.5)  # Add grid for better readability\n",
    "      ax.set_facecolor('#f0f0f0')  # Light grey background for the plot area\n",
    "\n",
    "      return tracking_lines + point_scatters\n",
    "\n",
    "  ani = FuncAnimation(fig, update, frames=range(int(T/(T/100))), init_func=init, blit=False)\n",
    "\n",
    "  return HTML(ani.to_jshtml())"
   ]
  },
  {
   "cell_type": "markdown",
   "metadata": {
    "id": "_-R-aUYo0YnR"
   },
   "source": [
    "# Administrative Information\n",
    "Again, please note that none of the tasks set are supposed to be extremely challenging and if you do run into any problems, chances are high that this is due to unclarity on our side. As such, if you are stuck on a task for a longer time, do please reach out to lars@aims.ac.za\n",
    "\n",
    "The notebooks are roughly structured as follows:\n",
    "- Coding tasks and questions are mixed together and are highlighted by the keyword: \"**Task**\".\n",
    "- Depending on what the task is acking for, the task will be followed by either a codeblock containing some pre-writen helper code and a `#Todo` flag after which you can add your implementation, or a markdown block containing the keyword \"*Answer:*\" for you to provide your answer.\n",
    "- Some tasks are followed by a \"**Hint:**\" which will contain some extra instructions for the coding implementations, or it might point you towards the right answer to a question.\n",
    "- At the end of each notebook we will have a short section with additional challenging extensions that you could choose to work on if you found a topic interesting. Please note that you are not required to do these extensions. Solving one or more of the extensions does **not** by definition result in a higher grade for the course.\n",
    "\n",
    "Lastly, to help us in improving the coding assignments in the following weeks, please fill in the anonymous feedback [form](https://forms.gle/vVBXm7nhW94yMkHr8) (you can do this for every assigment, just make sure to pick the correct day you just finished in the shee). We highly appreciate your feedback, positive and negative!"
   ]
  },
  {
   "cell_type": "markdown",
   "metadata": {
    "id": "I1BZDRjurmXo"
   },
   "source": [
    "# Denoising Diffusion Probabilistic Models\n",
    "In this notebook we will be implementing a Denoising Diffusion Probabilistic Model, or DDPM in short. One specific component that we will be looking at is the notion of a \"noise scheduler\". The choice we make for this scheduler can have a large impact on the accuracy of the samples we generate.\n",
    "\n",
    "Before we start coding the DDPM we first generate the dataset. This is almost the exact same dataset as we used for the last two days. The only difference is that we now normalise the data to have 0 mean unit variance. The reason for this will be come clear later."
   ]
  },
  {
   "cell_type": "code",
   "execution_count": 4,
   "metadata": {
    "executionInfo": {
     "elapsed": 499,
     "status": "ok",
     "timestamp": 1712430129155,
     "user": {
      "displayName": "Herman Franclin TESSO TASSANG",
      "userId": "12553198285820224924"
     },
     "user_tz": -120
    },
    "id": "5F0HJZ5LA6Zp"
   },
   "outputs": [],
   "source": [
    "reset_seeds()\n",
    "\n",
    "# Parameters for the GMM components\n",
    "n_data = 500  # Total number of data points\n",
    "n_gaussians = 10  # Number of GMM mixture components\n",
    "\n",
    "# Generate parameters for GMM components\n",
    "means = torch.rand(n_gaussians, 2) * 10 - 5  # Uniformly distributed in [-5, 5]\n",
    "stds = torch.rand(n_gaussians, 2) * 1 + 0.5  # Uniformly distributed in [0.5, 1.5]\n",
    "\n",
    "mixture_weights = torch.ones(n_gaussians) / n_gaussians  # Equal weights for simplicity\n",
    "mixture_distribution = torch.distributions.Categorical(mixture_weights)\n",
    "component_distribution = torch.distributions.Independent(torch.distributions.Normal(means, stds), 1)\n",
    "gmm = torch.distributions.MixtureSameFamily(mixture_distribution, component_distribution)\n",
    "\n",
    "# Sample data from the GMM\n",
    "X = gmm.sample((n_data,))\n",
    "\n",
    "\n",
    "mean = X.mean(dim=0)\n",
    "std = X.std(dim=0)\n",
    "X = (X - mean) / std"
   ]
  },
  {
   "cell_type": "code",
   "execution_count": 5,
   "metadata": {
    "colab": {
     "base_uri": "https://localhost:8080/",
     "height": 696
    },
    "executionInfo": {
     "elapsed": 1005,
     "status": "ok",
     "timestamp": 1712430645115,
     "user": {
      "displayName": "Herman Franclin TESSO TASSANG",
      "userId": "12553198285820224924"
     },
     "user_tz": -120
    },
    "id": "pggNFg4fB9Bs",
    "outputId": "a6683af1-4bb4-417b-abcd-991423bbd7ca"
   },
   "outputs": [
    {
     "data": {
      "image/png": "[encoded data removed]",
      "text/plain": [
       "<Figure size 1000x800 with 1 Axes>"
      ]
     },
     "metadata": {},
     "output_type": "display_data"
    }
   ],
   "source": [
    "# Plot the data\n",
    "plt.figure(figsize=(10, 8))\n",
    "plt.scatter(X[:, 0], X[:, 1], alpha=0.6)\n",
    "\n",
    "plt.xlabel('X1')\n",
    "plt.ylabel('X2')\n",
    "plt.grid(True)\n",
    "plt.show()"
   ]
  },
  {
   "cell_type": "markdown",
   "metadata": {
    "id": "IpXjHddpldsQ"
   },
   "source": [
    "## Forward process: Diffusing the data\n",
    "In VAE's the forward process transforming the data samples to the latent representation is performed using the Encoder network. This encoder network is a learned function.\n",
    "\n",
    "In DDPM, or diffusion models more generally, the forward process is fixed. There are no learnable parameters here. This does however not mean that we don't have any modelling decisions to make.\n",
    "\n",
    "As we discussed in the lecture the forward process iteratively transforms the samples by applying a transition kernel. Several choices for this transition kernel are possible, but the most used one in the DDPM literature is the Variance-Preserving (VP) kernel.\n",
    "$$\n",
    "x_{t+1} = \\sqrt{1-\\beta_t}x_t + \\sqrt{\\beta_t}\\epsilon_t,\n",
    " \\text{         with, } \\epsilon_t \\sim \\mathcal{N}(0, I)\n",
    "$$\n",
    "\n",
    "This kernel is defined below.\n",
    "\n",
    "(The choice to use this kernel is also why we normalized the data. It only preserves variance if we start with unit variance)"
   ]
  },
  {
   "cell_type": "code",
   "execution_count": 6,
   "metadata": {
    "executionInfo": {
     "elapsed": 490,
     "status": "ok",
     "timestamp": 1712430667682,
     "user": {
      "displayName": "Herman Franclin TESSO TASSANG",
      "userId": "12553198285820224924"
     },
     "user_tz": -120
    },
    "id": "xZ6jsOYmCQEs"
   },
   "outputs": [],
   "source": [
    "def q_zt_given_ztm1(z_t_minus_1, beta_t):\n",
    "    return torch.sqrt(1.0 - beta_t) * z_t_minus_1 + torch.sqrt(beta_t) * torch.randn_like(z_t_minus_1)"
   ]
  },
  {
   "cell_type": "markdown",
   "metadata": {
    "id": "nHf4bUAOuJq7"
   },
   "source": [
    "As you can observe, the kernel is dependent on the choice of the so called \"noise schedule\". This schedule, defined by a series of $0 < \\beta_t < 1$, can have a significant impact on the performance of the model. During the class we experimented with two different options; 1) a linear schedule, 2) a non-linear schedule based on the cosine function.\n",
    "\n",
    "There are of course other options possible. For example, during the lecture Max always assumed $\\beta$ to be fixed. This choice of schedule is what you will be experimenting with."
   ]
  },
  {
   "cell_type": "code",
   "execution_count": 7,
   "metadata": {
    "executionInfo": {
     "elapsed": 483,
     "status": "ok",
     "timestamp": 1712430834357,
     "user": {
      "displayName": "Herman Franclin TESSO TASSANG",
      "userId": "12553198285820224924"
     },
     "user_tz": -120
    },
    "id": "eAfG9Qz0hRhX"
   },
   "outputs": [],
   "source": [
    "T = 1000  # Total number of timesteps\n",
    "start_beta = 0.000001\n",
    "end_beta = .001\n",
    "\n",
    "betas = torch.linspace(start_beta, end_beta, T)"
   ]
  },
  {
   "cell_type": "code",
   "execution_count": null,
   "metadata": {
    "id": "ZO21VC2NM8o1"
   },
   "outputs": [],
   "source": [
    "# T = 100  # Total number of timesteps\n",
    "# start_beta = 0.0001\n",
    "# end_beta = .1\n",
    "\n",
    "# betas = torch.linspace(start_beta, end_beta, T)"
   ]
  },
  {
   "cell_type": "code",
   "execution_count": null,
   "metadata": {
    "id": "vFI12nR-6fiH"
   },
   "outputs": [],
   "source": [
    "# T = 1000\n",
    "# beta_start = 1e-6\n",
    "# beta_end = 2e-3\n",
    "# timesteps = torch.arange(T, dtype=torch.float32) / (T - 1)\n",
    "# cos_values = (torch.cos(np.pi * timesteps + np.pi) + 1) / 2\n",
    "# betas = beta_start + (beta_end - beta_start) * cos_values"
   ]
  },
  {
   "cell_type": "markdown",
   "metadata": {
    "id": "nlxybnXbvIPt"
   },
   "source": [
    "### Running the diffusion process\n",
    "In the codeblocks below we run and visualize the diffusion process using the scheduler defined above. You can observe that after T steps the samples are roughly normally distributed.\n",
    "\n",
    "To clarify, the colored points in the plot are nothing special. These are simply regular points colored such that we can track how they move around over time."
   ]
  },
  {
   "cell_type": "code",
   "execution_count": 8,
   "metadata": {
    "executionInfo": {
     "elapsed": 585,
     "status": "ok",
     "timestamp": 1712430962324,
     "user": {
      "displayName": "Herman Franclin TESSO TASSANG",
      "userId": "12553198285820224924"
     },
     "user_tz": -120
    },
    "id": "UlHnH7amiNeZ"
   },
   "outputs": [],
   "source": [
    "forward_history = torch.zeros(T, n_data, 2)\n",
    "forward_history[0, :] = X\n",
    "\n",
    "for t in range(1, T):\n",
    "  beta_t = betas[t-1]\n",
    "  forward_history[t, :] = q_zt_given_ztm1(forward_history[t-1, :], beta_t)"
   ]
  },
  {
   "cell_type": "code",
   "execution_count": 9,
   "metadata": {
    "colab": {
     "base_uri": "https://localhost:8080/",
     "height": 1000,
     "output_embedded_package_id": "1V4DO0n0-LX04zPu5Ju-f_W6rutMGAzOI"
    },
    "executionInfo": {
     "elapsed": 36832,
     "status": "ok",
     "timestamp": 1712431081404,
     "user": {
      "displayName": "Herman Franclin TESSO TASSANG",
      "userId": "12553198285820224924"
     },
     "user_tz": -120
    },
    "id": "Aj9_Yqbd1e-7",
    "outputId": "3516c47f-a379-42bf-ac24-b0ae9ff411b8"
   },
   "outputs": [
    {
     "data": {
      "text/plain": [
       "Output hidden; open in https://colab.research.google.com to view."
      ]
     },
     "metadata": {},
     "output_type": "display_data"
    }
   ],
   "source": [
    "plot(forward_history, 1)"
   ]
  },
  {
   "cell_type": "markdown",
   "metadata": {
    "id": "YQCiWu1Lloed"
   },
   "source": [
    "# Backward process - Denoising\n",
    "With the implementation of the backward process we are now getting to the meat of the code. The backward process is the learnable component of a DDPM. This is done by parameterizing a neural network and training it to denoise a noisy sample.\n",
    "\n",
    "One key component for making this learning process tractable is to assume Gaussian transitions between the samples in the forward process. While, even with this choice, it is still not easy to define the marginals at every time-step t it is possible to get the marginals conditioned on a single datasample. This is implemented below.\n",
    "\n",
    "Please have a look at the derivations in the lecture notes to understand why we can define these conditional distributions.\n"
   ]
  },
  {
   "cell_type": "code",
   "execution_count": 12,
   "metadata": {
    "executionInfo": {
     "elapsed": 645,
     "status": "ok",
     "timestamp": 1712431771188,
     "user": {
      "displayName": "Herman Franclin TESSO TASSANG",
      "userId": "12553198285820224924"
     },
     "user_tz": -120
    },
    "id": "vRPqatdlsjVE"
   },
   "outputs": [],
   "source": [
    "def q_zt_given_zt0(X, t, betas):\n",
    "    # Compute the alphas and their cumulative product\n",
    "    alphas = 1.0 - betas\n",
    "    alphas_cumprod = torch.cumprod(alphas, dim=0)\n",
    "\n",
    "    # Gather the cumulative product of alphas corresponding to each timestep t for each sample\n",
    "    alphas_cumprod_t = alphas_cumprod[t]\n",
    "    alphas_cumprod_t = alphas_cumprod_t.view(-1, 1)\n",
    "\n",
    "    # Compute the noise\n",
    "    epsilon = torch.randn_like(X)\n",
    "\n",
    "    # Compute the noised data z_t for the given timesteps t\n",
    "    z_t = torch.sqrt(alphas_cumprod_t) * X + torch.sqrt(1.0 - alphas_cumprod_t) * epsilon\n",
    "\n",
    "    return z_t, epsilon"
   ]
  },
  {
   "cell_type": "markdown",
   "metadata": {
    "id": "rARVds4pwdfe"
   },
   "source": [
    "The next component that we are implementing is the Noise Prediction Network (NPN). The NPN takes as an input a noisy sample at a time-step t (it's important to also pass the time t into the model), and tries to predict the noise that was added to this sample."
   ]
  },
  {
   "cell_type": "code",
   "execution_count": 13,
   "metadata": {
    "executionInfo": {
     "elapsed": 490,
     "status": "ok",
     "timestamp": 1712431946446,
     "user": {
      "displayName": "Herman Franclin TESSO TASSANG",
      "userId": "12553198285820224924"
     },
     "user_tz": -120
    },
    "id": "6czRjVsnDHyE"
   },
   "outputs": [],
   "source": [
    "class NoisePredictionNetwork(nn.Module):\n",
    "    def __init__(self, input_dim=2, output_dim=2, hidden_dims=[64, 64], time_embedding_dim=16):\n",
    "        super(NoisePredictionNetwork, self).__init__()\n",
    "        self.time_embedding = nn.Linear(1, time_embedding_dim)  # Embedding layer for the timestep\n",
    "\n",
    "        # Adjust input dimension to account for time embedding\n",
    "        adjusted_input_dim = input_dim + time_embedding_dim\n",
    "\n",
    "        self.layers = nn.ModuleList()\n",
    "        last_dim = adjusted_input_dim\n",
    "        for hidden_dim in hidden_dims:\n",
    "            self.layers.append(nn.Linear(last_dim, hidden_dim))\n",
    "            last_dim = hidden_dim\n",
    "        self.final_layer = nn.Linear(last_dim, output_dim)\n",
    "\n",
    "\n",
    "    def forward(self, x, t):\n",
    "        # Embed the timestep\n",
    "        t_embedded = F.relu(self.time_embedding(t.unsqueeze(-1)))\n",
    "\n",
    "        # Concatenate the embedded timestep with the original input\n",
    "        x = torch.cat([x, t_embedded], dim=1)\n",
    "        for layer in self.layers:\n",
    "            x = F.relu(layer(x))\n",
    "\n",
    "        x = self.final_layer(x)\n",
    "        return x"
   ]
  },
  {
   "cell_type": "code",
   "execution_count": 14,
   "metadata": {
    "executionInfo": {
     "elapsed": 468,
     "status": "ok",
     "timestamp": 1712432015759,
     "user": {
      "displayName": "Herman Franclin TESSO TASSANG",
      "userId": "12553198285820224924"
     },
     "user_tz": -120
    },
    "id": "1Gycr_51FM7m"
   },
   "outputs": [],
   "source": [
    "model = NoisePredictionNetwork(hidden_dims=[64, 128, 64])"
   ]
  },
  {
   "cell_type": "markdown",
   "metadata": {
    "id": "wxejmRG2w7kL"
   },
   "source": [
    "Lastly we have the training loop. As we derived during the lecture, the loss funtion of a DDPM can be implemented as a MSE loss between the predicted noise and the actuall noise."
   ]
  },
  {
   "cell_type": "code",
   "execution_count": 15,
   "metadata": {
    "colab": {
     "base_uri": "https://localhost:8080/"
    },
    "executionInfo": {
     "elapsed": 10042,
     "status": "ok",
     "timestamp": 1712432072052,
     "user": {
      "displayName": "Herman Franclin TESSO TASSANG",
      "userId": "12553198285820224924"
     },
     "user_tz": -120
    },
    "id": "-TJyTszVnvE4",
    "outputId": "1e81f9aa-98ea-4187-9940-14b6091dac92"
   },
   "outputs": [
    {
     "name": "stderr",
     "output_type": "stream",
     "text": [
      "  2%|▏         | 19/1000 [00:00<00:09, 99.94it/s]"
     ]
    },
    {
     "name": "stdout",
     "output_type": "stream",
     "text": [
      "[0]\tLoss: 1.065932\n"
     ]
    },
    {
     "name": "stderr",
     "output_type": "stream",
     "text": [
      " 12%|█▏        | 120/1000 [00:00<00:06, 144.46it/s]"
     ]
    },
    {
     "name": "stdout",
     "output_type": "stream",
     "text": [
      "[100]\tLoss: 0.851465\n"
     ]
    },
    {
     "name": "stderr",
     "output_type": "stream",
     "text": [
      " 22%|██▏       | 223/1000 [00:01<00:05, 137.80it/s]"
     ]
    },
    {
     "name": "stdout",
     "output_type": "stream",
     "text": [
      "[200]\tLoss: 0.768558\n"
     ]
    },
    {
     "name": "stderr",
     "output_type": "stream",
     "text": [
      " 32%|███▏      | 322/1000 [00:02<00:05, 130.96it/s]"
     ]
    },
    {
     "name": "stdout",
     "output_type": "stream",
     "text": [
      "[300]\tLoss: 0.717734\n"
     ]
    },
    {
     "name": "stderr",
     "output_type": "stream",
     "text": [
      " 42%|████▏     | 424/1000 [00:03<00:03, 172.26it/s]"
     ]
    },
    {
     "name": "stdout",
     "output_type": "stream",
     "text": [
      "[400]\tLoss: 0.756281\n"
     ]
    },
    {
     "name": "stderr",
     "output_type": "stream",
     "text": [
      " 51%|█████▏    | 513/1000 [00:03<00:04, 102.27it/s]"
     ]
    },
    {
     "name": "stdout",
     "output_type": "stream",
     "text": [
      "[500]\tLoss: 0.717537\n"
     ]
    },
    {
     "name": "stderr",
     "output_type": "stream",
     "text": [
      " 64%|██████▍   | 643/1000 [00:04<00:01, 187.91it/s]"
     ]
    },
    {
     "name": "stdout",
     "output_type": "stream",
     "text": [
      "[600]\tLoss: 0.813209\n"
     ]
    },
    {
     "name": "stderr",
     "output_type": "stream",
     "text": [
      " 73%|███████▎  | 726/1000 [00:05<00:01, 198.21it/s]"
     ]
    },
    {
     "name": "stdout",
     "output_type": "stream",
     "text": [
      "[700]\tLoss: 0.755054\n"
     ]
    },
    {
     "name": "stderr",
     "output_type": "stream",
     "text": [
      " 83%|████████▎ | 827/1000 [00:05<00:00, 196.41it/s]"
     ]
    },
    {
     "name": "stdout",
     "output_type": "stream",
     "text": [
      "[800]\tLoss: 0.760419\n"
     ]
    },
    {
     "name": "stderr",
     "output_type": "stream",
     "text": [
      " 93%|█████████▎| 933/1000 [00:06<00:00, 206.63it/s]"
     ]
    },
    {
     "name": "stdout",
     "output_type": "stream",
     "text": [
      "[900]\tLoss: 0.795663\n"
     ]
    },
    {
     "name": "stderr",
     "output_type": "stream",
     "text": [
      "100%|██████████| 1000/1000 [00:06<00:00, 153.14it/s]\n"
     ]
    }
   ],
   "source": [
    "from torch.nn.utils import clip_grad_norm_\n",
    "\n",
    "optimizer = optim.Adam(model.parameters(), lr=1e-3, weight_decay=1e-3)\n",
    "loss_function = nn.MSELoss()\n",
    "\n",
    "# Training loop\n",
    "epochs = 1000\n",
    "for epoch in tqdm(range(epochs)):\n",
    "    t = torch.randint(0, T, (X.size(0),), device=X.device)\n",
    "\n",
    "    z_t, noise = q_zt_given_zt0(X, t, betas)\n",
    "\n",
    "    # Predict the noise using the model\n",
    "    t = t.float() / (T - 1)\n",
    "    model_output = model(z_t, t)\n",
    "\n",
    "    loss = F.mse_loss(model_output, noise)\n",
    "\n",
    "    clip_grad_norm_(model.parameters(), max_norm=0.5)\n",
    "    optimizer.zero_grad()\n",
    "    loss.backward()\n",
    "    optimizer.step()\n",
    "\n",
    "    # Logging\n",
    "    if epoch % 100 == 0:\n",
    "        print(f'[{epoch}]\\tLoss: {loss.item():.6f}')"
   ]
  },
  {
   "cell_type": "markdown",
   "metadata": {
    "id": "Uja2gq9NxN2I"
   },
   "source": [
    "## Sampling from a DDPM\n",
    "In the block below we have implemented the sampling procedure of the DDPM. The sampling procedure starts by sampling a random sample from the Normal distribution with zero mean and unit variance. Following this, we use the trained NPN to denoise the sample step by step. As you can see, we need to apply the t's in reverse order for this (from t=T to t=0)."
   ]
  },
  {
   "cell_type": "code",
   "execution_count": 16,
   "metadata": {
    "executionInfo": {
     "elapsed": 494,
     "status": "ok",
     "timestamp": 1712432090325,
     "user": {
      "displayName": "Herman Franclin TESSO TASSANG",
      "userId": "12553198285820224924"
     },
     "user_tz": -120
    },
    "id": "r5sfp9Ppz0-h"
   },
   "outputs": [],
   "source": [
    "def sample(starting_point, temp = 1.):\n",
    "    # Precompute alphas and their cumulative product\n",
    "    alphas = 1.0 - betas\n",
    "    alphas_cumprod = torch.cumprod(alphas, dim=0)\n",
    "    alphas_cumprod_prev = F.pad(alphas_cumprod[:-1], (1, 0), value=1.0)\n",
    "\n",
    "    # Initialize the history of z's with the last one being from the prior\n",
    "    history = torch.zeros(T, starting_point.shape[0], 2)\n",
    "    history[-1] = starting_point\n",
    "\n",
    "    # Reverse diffusion process to denoise the samples\n",
    "    for t in reversed(range(T - 1)):\n",
    "        # Extract the relevant alphas and betas for the current timestep\n",
    "        alpha_t = alphas[t]\n",
    "        alpha_cumprod_t = alphas_cumprod[t]\n",
    "        alpha_cumprod_prev_t = alphas_cumprod_prev[t]\n",
    "\n",
    "        # Calculate the mean of q(z_{t-1} | z_t, z_0)\n",
    "        # Using the model to predict epsilon_t\n",
    "        with torch.no_grad():\n",
    "            ts = torch.full((starting_point.shape[0],), t, dtype=torch.float32) / (T - 1)\n",
    "            epsilon_t = model(history[t + 1], ts)\n",
    "        mean = (history[t + 1] - torch.sqrt(1.0 - alpha_cumprod_t) * epsilon_t) / torch.sqrt(alpha_cumprod_prev_t)\n",
    "\n",
    "        # Sample z_{t-1}\n",
    "        if t == 0:\n",
    "            # No need to add noise when t == 0 as we've reached the end of the reverse process\n",
    "            history[t] = mean\n",
    "        else:\n",
    "            history[t] = mean + torch.sqrt(betas[t]) * torch.randn(starting_point.shape[0], 2) * temp\n",
    "\n",
    "    # z_history now contains the denoised samples over time\n",
    "\n",
    "    return history"
   ]
  },
  {
   "cell_type": "markdown",
   "metadata": {
    "id": "wYlPfOsxx0M0"
   },
   "source": [
    "However, unfortunately, DDPMs often suffer from mode collapse where the denoising process quickly collapses in a small number of modes. This can be seen happening in the plot below."
   ]
  },
  {
   "cell_type": "code",
   "execution_count": 17,
   "metadata": {
    "colab": {
     "base_uri": "https://localhost:8080/",
     "height": 1000,
     "output_embedded_package_id": "1y3J95msP9fDVIIcVhunFjrrIYqq01gai"
    },
    "executionInfo": {
     "elapsed": 26340,
     "status": "ok",
     "timestamp": 1712432289495,
     "user": {
      "displayName": "Herman Franclin TESSO TASSANG",
      "userId": "12553198285820224924"
     },
     "user_tz": -120
    },
    "id": "g1jKienj0M42",
    "outputId": "ec552f7a-dd74-477b-f910-873dff16243c"
   },
   "outputs": [
    {
     "data": {
      "text/plain": [
       "Output hidden; open in https://colab.research.google.com to view."
      ]
     },
     "metadata": {},
     "output_type": "display_data"
    }
   ],
   "source": [
    "z_from_prior = torch.randn(500, 2)\n",
    "reverse_history = sample(z_from_prior)\n",
    "\n",
    "plot(reverse_history, -1)"
   ]
  },
  {
   "cell_type": "markdown",
   "metadata": {
    "id": "r07s8fBkyHeC"
   },
   "source": [
    "Fortunately, researchers have found a trick to overcome this problem by introducing a temperature parameter into the sampling process. We have already implemented this and can active it by passing a desired temperature to the sample function.\n",
    "\n",
    "It is important to note that choosing this temperature is somewhat tricky and arbitrary. You might need to try a couple of values for the temperature if you make any changes to the rest of the code."
   ]
  },
  {
   "cell_type": "code",
   "execution_count": null,
   "metadata": {
    "id": "8Rq1eX-23BMP"
   },
   "outputs": [],
   "source": [
    "z_from_prior = torch.randn(500, 2)\n",
    "reverse_history = sample(z_from_prior, temp=10.)\n",
    "\n",
    "plot(reverse_history, -1)"
   ]
  },
  {
   "cell_type": "markdown",
   "metadata": {
    "id": "NnG-hPsnyf5M"
   },
   "source": [
    "# Assignment\n",
    "We already discussed that there are many different options possible for the noise schedule $\\beta_t$. This asignment will ask you to try different noise schedulers. We will specifically be focussing on a constant noise schedule, but feel free to experiment further.\n",
    "\n",
    "**TASK:**\n",
    "- Implement the constant noise schedule that Max used in his lecture. ie. set $\\beta_t = c$ for all $t$ where $c$ is some arbitrary constant.\n",
    "- Experiment with the choice of $c$. If possible, try to create a visualization for this.\n",
    "- What happens if $c$ is very small? Specifically, what happens to the latent representation?\n",
    "- Did you need to change the temperature for the sampling procedure at all?\n",
    "\n"
   ]
  },
  {
   "cell_type": "markdown",
   "metadata": {
    "id": "kPZv4v6jDe7D"
   },
   "source": [
    "# Answer:\n",
    "3. when the constant $c$ choose is very small ,\n",
    " it indicates that only a small amount of noise is added to the dat at each iteration. As a result, the variance of the data changes slowly over time ( remains relatively stable ). specificaly, we observe:\n",
    "\n",
    " * a slow increase in noise level over the diffusion process\n",
    " *  decrease of variability in the latent representation\n",
    " *  less abrupt transitions between different states in the latent space.\n",
    "\n",
    " in conclusion, we observe smoother latent representation and reduced noise.\n",
    "\n",
    "4. No, I did not need to change the temperature for the sampling procedure."
   ]
  },
  {
   "cell_type": "code",
   "execution_count": 45,
   "metadata": {
    "executionInfo": {
     "elapsed": 505,
     "status": "ok",
     "timestamp": 1712438249849,
     "user": {
      "displayName": "Herman Franclin TESSO TASSANG",
      "userId": "12553198285820224924"
     },
     "user_tz": -120
    },
    "id": "6ED8UNYe7gVK"
   },
   "outputs": [],
   "source": [
    "#@title Forward process of the diffusion model { run: \"auto\"}\n",
    "T = 1000  # Total number of timesteps\n",
    "\n",
    "## change the tensor beta to a constant tensor ( interactif slide to choose the constant)\n",
    "\n",
    "beta=0.00082 #@param {type:\"slider\", min:0, max:1, step:0.00001}\n",
    "\n",
    "### beta value at each time ( constant )\n",
    "betas = torch.full((T,), beta)\n",
    "\n",
    "#### delete the previous model\n",
    "del model\n"
   ]
  },
  {
   "cell_type": "code",
   "execution_count": 46,
   "metadata": {
    "colab": {
     "base_uri": "https://localhost:8080/",
     "height": 1000,
     "output_embedded_package_id": "1h7Ri4FGkU47UJj4Mf6wBZA0jTPsmNzr5"
    },
    "executionInfo": {
     "elapsed": 39477,
     "status": "ok",
     "timestamp": 1712438290937,
     "user": {
      "displayName": "Herman Franclin TESSO TASSANG",
      "userId": "12553198285820224924"
     },
     "user_tz": -120
    },
    "id": "S0FJj_5-8Ovz",
    "outputId": "04c70dad-6a79-4241-91b0-6a72e9f79789"
   },
   "outputs": [
    {
     "data": {
      "text/plain": [
       "Output hidden; open in https://colab.research.google.com to view."
      ]
     },
     "metadata": {},
     "output_type": "display_data"
    }
   ],
   "source": [
    "#@title runing the diffusion process\n",
    "forward_history = torch.zeros(T, n_data, 2)\n",
    "forward_history[0, :] = X\n",
    "\n",
    "for t in range(1, T):\n",
    "  beta_t = betas[t-1]\n",
    "  forward_history[t, :] = q_zt_given_ztm1(forward_history[t-1, :], beta_t)\n",
    "\n",
    "plot(forward_history, 1)"
   ]
  },
  {
   "cell_type": "code",
   "execution_count": 47,
   "metadata": {
    "cellView": "form",
    "colab": {
     "base_uri": "https://localhost:8080/"
    },
    "executionInfo": {
     "elapsed": 809,
     "status": "ok",
     "timestamp": 1712438291735,
     "user": {
      "displayName": "Herman Franclin TESSO TASSANG",
      "userId": "12553198285820224924"
     },
     "user_tz": -120
    },
    "id": "rtq-U8UQ8nBp",
    "outputId": "8beb3af1-ba57-4ec0-eb96-cbd4f49c9930"
   },
   "outputs": [
    {
     "name": "stderr",
     "output_type": "stream",
     "text": [
      "  1%|▏         | 14/1000 [00:00<00:07, 134.15it/s]"
     ]
    },
    {
     "name": "stdout",
     "output_type": "stream",
     "text": [
      "[0]\tLoss: 0.989033\n"
     ]
    },
    {
     "name": "stderr",
     "output_type": "stream",
     "text": [
      " 13%|█▎        | 127/1000 [00:00<00:05, 149.49it/s]"
     ]
    },
    {
     "name": "stdout",
     "output_type": "stream",
     "text": [
      "[100]\tLoss: 0.674133\n"
     ]
    },
    {
     "name": "stderr",
     "output_type": "stream",
     "text": [
      " 23%|██▎       | 233/1000 [00:01<00:05, 144.20it/s]"
     ]
    },
    {
     "name": "stdout",
     "output_type": "stream",
     "text": [
      "[200]\tLoss: 0.618630\n"
     ]
    },
    {
     "name": "stderr",
     "output_type": "stream",
     "text": [
      " 34%|███▍      | 340/1000 [00:02<00:03, 180.59it/s]"
     ]
    },
    {
     "name": "stdout",
     "output_type": "stream",
     "text": [
      "[300]\tLoss: 0.599330\n"
     ]
    },
    {
     "name": "stderr",
     "output_type": "stream",
     "text": [
      " 43%|████▎     | 432/1000 [00:02<00:02, 214.47it/s]"
     ]
    },
    {
     "name": "stdout",
     "output_type": "stream",
     "text": [
      "[400]\tLoss: 0.627050\n"
     ]
    },
    {
     "name": "stderr",
     "output_type": "stream",
     "text": [
      " 54%|█████▍    | 543/1000 [00:03<00:02, 213.87it/s]"
     ]
    },
    {
     "name": "stdout",
     "output_type": "stream",
     "text": [
      "[500]\tLoss: 0.595658\n"
     ]
    },
    {
     "name": "stderr",
     "output_type": "stream",
     "text": [
      " 64%|██████▎   | 635/1000 [00:03<00:01, 224.03it/s]"
     ]
    },
    {
     "name": "stdout",
     "output_type": "stream",
     "text": [
      "[600]\tLoss: 0.622716\n"
     ]
    },
    {
     "name": "stderr",
     "output_type": "stream",
     "text": [
      " 73%|███████▎  | 728/1000 [00:04<00:01, 228.38it/s]"
     ]
    },
    {
     "name": "stdout",
     "output_type": "stream",
     "text": [
      "[700]\tLoss: 0.644250\n"
     ]
    },
    {
     "name": "stderr",
     "output_type": "stream",
     "text": [
      " 85%|████████▍ | 846/1000 [00:04<00:00, 231.08it/s]"
     ]
    },
    {
     "name": "stdout",
     "output_type": "stream",
     "text": [
      "[800]\tLoss: 0.572343\n"
     ]
    },
    {
     "name": "stderr",
     "output_type": "stream",
     "text": [
      " 94%|█████████▍| 940/1000 [00:04<00:00, 225.75it/s]"
     ]
    },
    {
     "name": "stdout",
     "output_type": "stream",
     "text": [
      "[900]\tLoss: 0.624843\n"
     ]
    },
    {
     "name": "stderr",
     "output_type": "stream",
     "text": [
      "100%|██████████| 1000/1000 [00:05<00:00, 191.45it/s]\n"
     ]
    }
   ],
   "source": [
    "#@title Backward process-Denoising\n",
    "\n",
    "def q_zt_given_zt0(X, t, betas):\n",
    "    # Compute the alphas and their cumulative product\n",
    "    alphas = 1.0 - betas\n",
    "    alphas_cumprod = torch.cumprod(alphas, dim=0)\n",
    "\n",
    "    # Gather the cumulative product of alphas corresponding to each timestep t for each sample\n",
    "    alphas_cumprod_t = alphas_cumprod[t]\n",
    "    alphas_cumprod_t = alphas_cumprod_t.view(-1, 1)\n",
    "\n",
    "    # Compute the noise\n",
    "    epsilon = torch.randn_like(X)\n",
    "\n",
    "    # Compute the noised data z_t for the given timesteps t\n",
    "    z_t = torch.sqrt(alphas_cumprod_t) * X + torch.sqrt(1.0 - alphas_cumprod_t) * epsilon\n",
    "\n",
    "    return z_t, epsilon\n",
    "\n",
    "########################\n",
    "\n",
    "class NoisePredictionNetwork(nn.Module):\n",
    "    def __init__(self, input_dim=2, output_dim=2, hidden_dims=[64, 64], time_embedding_dim=16):\n",
    "        super(NoisePredictionNetwork, self).__init__()\n",
    "        self.time_embedding = nn.Linear(1, time_embedding_dim)  # Embedding layer for the timestep\n",
    "\n",
    "        # Adjust input dimension to account for time embedding\n",
    "        adjusted_input_dim = input_dim + time_embedding_dim\n",
    "\n",
    "        self.layers = nn.ModuleList()\n",
    "        last_dim = adjusted_input_dim\n",
    "        for hidden_dim in hidden_dims:\n",
    "            self.layers.append(nn.Linear(last_dim, hidden_dim))\n",
    "            last_dim = hidden_dim\n",
    "        self.final_layer = nn.Linear(last_dim, output_dim)\n",
    "\n",
    "\n",
    "    def forward(self, x, t):\n",
    "        # Embed the timestep\n",
    "        t_embedded = F.relu(self.time_embedding(t.unsqueeze(-1)))\n",
    "\n",
    "        # Concatenate the embedded timestep with the original input\n",
    "        x = torch.cat([x, t_embedded], dim=1)\n",
    "        for layer in self.layers:\n",
    "            x = F.relu(layer(x))\n",
    "\n",
    "        x = self.final_layer(x)\n",
    "        return x\n",
    "\n",
    "############# Model\n",
    "\n",
    "model = NoisePredictionNetwork(hidden_dims=[64, 128, 64])\n",
    "\n",
    "#################\n",
    "\n",
    "from torch.nn.utils import clip_grad_norm_\n",
    "\n",
    "optimizer = optim.Adam(model.parameters(), lr=1e-3, weight_decay=1e-3)\n",
    "loss_function = nn.MSELoss()\n",
    "\n",
    "# Training loop\n",
    "epochs = 1000\n",
    "for epoch in tqdm(range(epochs)):\n",
    "    t = torch.randint(0, T, (X.size(0),), device=X.device)\n",
    "\n",
    "    z_t, noise = q_zt_given_zt0(X, t, betas)\n",
    "\n",
    "    # Predict the noise using the model\n",
    "    t = t.float() / (T - 1)\n",
    "    model_output = model(z_t, t)\n",
    "\n",
    "    loss = F.mse_loss(model_output, noise)\n",
    "\n",
    "    clip_grad_norm_(model.parameters(), max_norm=0.5)\n",
    "    optimizer.zero_grad()\n",
    "    loss.backward()\n",
    "    optimizer.step()\n",
    "\n",
    "    # Logging\n",
    "    if epoch % 100 == 0:\n",
    "        print(f'[{epoch}]\\tLoss: {loss.item():.6f}')\n"
   ]
  },
  {
   "cell_type": "code",
   "execution_count": 48,
   "metadata": {
    "cellView": "form",
    "colab": {
     "base_uri": "https://localhost:8080/",
     "height": 1000,
     "output_embedded_package_id": "1TTN3rmzsmWB4jpoIDgrJuLimVrYLFbeY"
    },
    "executionInfo": {
     "elapsed": 12751,
     "status": "ok",
     "timestamp": 1712438304482,
     "user": {
      "displayName": "Herman Franclin TESSO TASSANG",
      "userId": "12553198285820224924"
     },
     "user_tz": -120
    },
    "id": "f67nqY6T9nbD",
    "outputId": "74e20c41-9386-4150-e4e2-34dbe56b0c7e"
   },
   "outputs": [
    {
     "data": {
      "text/plain": [
       "Output hidden; open in https://colab.research.google.com to view."
      ]
     },
     "metadata": {},
     "output_type": "display_data"
    }
   ],
   "source": [
    "#@title Sampling from a DDPM\n",
    "\n",
    "def sample(starting_point, temp = 1):\n",
    "    # Precompute alphas and their cumulative product\n",
    "    alphas = 1.0 - betas\n",
    "    alphas_cumprod = torch.cumprod(alphas, dim=0)\n",
    "    alphas_cumprod_prev = F.pad(alphas_cumprod[:-1], (1, 0), value=1.0)\n",
    "\n",
    "    # Initialize the history of z's with the last one being from the prior\n",
    "    history = torch.zeros(T, starting_point.shape[0], 2)\n",
    "    history[-1] = starting_point\n",
    "\n",
    "    # Reverse diffusion process to denoise the samples\n",
    "    for t in reversed(range(T - 1)):\n",
    "        # Extract the relevant alphas and betas for the current timestep\n",
    "        alpha_t = alphas[t]\n",
    "        alpha_cumprod_t = alphas_cumprod[t]\n",
    "        alpha_cumprod_prev_t = alphas_cumprod_prev[t]\n",
    "\n",
    "        # Calculate the mean of q(z_{t-1} | z_t, z_0)\n",
    "        # Using the model to predict epsilon_t\n",
    "        with torch.no_grad():\n",
    "            ts = torch.full((starting_point.shape[0],), t, dtype=torch.float32) / (T - 1)\n",
    "            epsilon_t = model(history[t + 1], ts)\n",
    "        mean = (history[t + 1] - torch.sqrt(1.0 - alpha_cumprod_t) * epsilon_t) / torch.sqrt(alpha_cumprod_prev_t)\n",
    "\n",
    "        # Sample z_{t-1}\n",
    "        if t == 0:\n",
    "            # No need to add noise when t == 0 as we've reached the end of the reverse process\n",
    "            history[t] = mean\n",
    "        else:\n",
    "            history[t] = mean + torch.sqrt(betas[t]) * torch.randn(starting_point.shape[0], 2) * temp\n",
    "\n",
    "    # z_history now contains the denoised samples over time\n",
    "\n",
    "    return history\n",
    "\n",
    "###### plot\n",
    "\n",
    "z_from_prior = torch.randn(500, 2)\n",
    "reverse_history = sample(z_from_prior,temp=3)\n",
    "\n",
    "plot(reverse_history, -1)"
   ]
  }
 ],
 "metadata": {
  "colab": {
   "provenance": [
    {
     "file_id": "1vjAasDfIHmbcleMcFaWTcKfkWu38cwLj",
     "timestamp": 1712331244621
    },
    {
     "file_id": "1Uc9e0Ge-6AtS1epoWmOxS6FSzJOXptNk",
     "timestamp": 1712313573831
    },
    {
     "file_id": "1QCm0od9YuhpQFKQyDwpWDvVzYvLuvfBH",
     "timestamp": 1712310132921
    },
    {
     "file_id": "1Ohzk7AzWhszY9JT1tLtjm79MPxU_jW1V",
     "timestamp": 1712172497376
    },
    {
     "file_id": "1rLb3hC3-fb8_kHU_uRidbrA30odhIwNn",
     "timestamp": 1712085831402
    },
    {
     "file_id": "1C-kBYAnUSl-F2SM2W1cZvgycVYaT0ESY",
     "timestamp": 1712001592649
    },
    {
     "file_id": "1clGb6TRTTEQU1L3Acyz53ryB-p_xqZyK",
     "timestamp": 1711565671088
    },
    {
     "file_id": "1gAEapOJWewDH4x7lqOK9VWIO3R_7IDrN",
     "timestamp": 1711463505939
    }
   ]
  },
  "kernelspec": {
   "display_name": "Python 3 (ipykernel)",
   "language": "python",
   "name": "python3"
  },
  "language_info": {
   "codemirror_mode": {
    "name": "ipython",
    "version": 3
   },
   "file_extension": ".py",
   "mimetype": "text/x-python",
   "name": "python",
   "nbconvert_exporter": "python",
   "pygments_lexer": "ipython3",
   "version": "3.11.2"
  }
 },
 "nbformat": 4,
 "nbformat_minor": 1
}

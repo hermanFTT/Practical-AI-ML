{
 "cells": [
  {
   "cell_type": "code",
   "execution_count": null,
   "id": "3eea9f3f",
   "metadata": {},
   "outputs": [],
   "source": [
    "import pickle\n",
    "from typing import Callable, List, Tuple\n",
    "\n",
    "import matplotlib as mpl\n",
    "import matplotlib.pyplot as plt\n",
    "import numpy as np\n",
    "from scipy.integrate import solve_ivp\n",
    "from scipy.interpolate import interp1d\n",
    "\n",
    "from utils import plot_throw2\n",
    "\n",
    "# set jupyter configurations\n",
    "%matplotlib inline\n",
    "%config InlineBackend.figure_format='retina'\n",
    "default_dpi = mpl.rcParamsDefault[\"figure.dpi\"]\n",
    "mpl.rcParams[\"figure.dpi\"] = default_dpi * 1.2"
   ]
  },
  {
   "cell_type": "markdown",
   "id": "35c6664a",
   "metadata": {},
   "source": [
    "## Define ballistic throw model\n",
    "\n",
    "This is the same simulator as in Practical 1. "
   ]
  },
  {
   "cell_type": "code",
   "execution_count": null,
   "id": "2d6cc59d",
   "metadata": {},
   "outputs": [],
   "source": [
    "def throw(\n",
    "    speed: float,\n",
    "    angle: int,\n",
    "    drag: float,\n",
    "    r: float = 0.050,\n",
    "    m: float = 0.2,\n",
    "    h_noise: float = 1.5,\n",
    "    ρ: float = 1.225,\n",
    "    g: float = 9.81,\n",
    ") -> dict:\n",
    "    \"\"\"Simulate the throw of a ball.\n",
    "\n",
    "    Following https://scipython.com/book2/chapter-8-scipy/examples/a-projectile-with-air-resistance/\n",
    "\n",
    "    Args:\n",
    "        speed: magnitude of initial speed (m/s).\n",
    "        angle: launch angle with horizontal (degrees)\n",
    "        drag: drag coefficient\n",
    "        r: projectile radius (m)\n",
    "        m: projectile mass (kg)\n",
    "        h_noise: std of measurements of altitude (m)\n",
    "        ρ: air density (default is at sea surface, 15C)\n",
    "        g: gravitational acceleration (default is average at surface of Earth)\n",
    "\n",
    "    Returns:\n",
    "        simulation: simulation results containing distance travelled\n",
    "            and height as a function of time.\n",
    "    \"\"\"\n",
    "\n",
    "    k = 0.5 * drag * ρ * (np.pi * r**2)  # drag constant, proportional to area\n",
    "\n",
    "    def deriv(t, u):\n",
    "        \"\"\"Return right-hand side of ODE system for the throw.\"\"\"\n",
    "        # see diagram at e.g. http://www.physics.smu.edu/fattarus/ballistic.html\n",
    "\n",
    "        x, v_x, z, v_z = u\n",
    "        speed = np.hypot(v_x, v_z)\n",
    "        a_x, a_z = -k / m * speed * v_x, -k / m * speed * v_z - g\n",
    "\n",
    "        return v_x, a_x, v_z, a_z\n",
    "\n",
    "    # position and velocity components at launch\n",
    "    x0, z0 = 0, 0\n",
    "    rad_angle = np.radians(angle)\n",
    "    v0_x, v0_z = speed * np.cos(rad_angle), speed * np.sin(rad_angle)\n",
    "\n",
    "    # integration grid\n",
    "    t = np.linspace(0, 400, 4000)\n",
    "\n",
    "    # solve initial value problem (ivp) for distance traveled(t) and height(t)\n",
    "    # df/dt = f(t,y); f(t_i) = y_i,\n",
    "\n",
    "    solution = solve_ivp(\n",
    "        deriv, t_span=(t[0], t[-1]), y0=(x0, v0_x, z0, v0_z), dense_output=True\n",
    "    )  # dense => continuous solution\n",
    "\n",
    "    # evaluate solution to obtain distance and height at each time point\n",
    "    d, _, h, _ = solution.sol(t)\n",
    "\n",
    "    # the simulator always uses the same time grid, interpolate to the same distance grid\n",
    "    f = interp1d(d, h, bounds_error=False)\n",
    "    d_target = np.linspace(0, 150, 100)\n",
    "    h_target = f(d_target)\n",
    "\n",
    "    # add noise to make the process stochastic\n",
    "    x = h_target + h_noise * np.random.randn(d_target.shape[0])\n",
    "\n",
    "    # to obtain the params from the interactive plot, we need to return parameters here as well\n",
    "    return dict(θ=(speed, angle, drag, r, m, h_noise, ρ, g), d=d_target, x=x)"
   ]
  },
  {
   "cell_type": "markdown",
   "id": "6dc5d3b7",
   "metadata": {},
   "source": [
    "Imagine you can only observe a noisy version of the data, because you can only measure the height imprecisely. We simulated this by adding independent Gaussian noise.\n",
    "\n",
    "Try to find out which parameters were used to generate the simulation by manually adjusting the parameters. Try to find a solution with $MSE<20$.\n",
    "\n",
    "Bonus question: What is the minimum MSE that you can achieve given that the measurements are noisy?\n",
    "\n",
    "What do you think were the original parameters?"
   ]
  },
  {
   "cell_type": "code",
   "execution_count": null,
   "id": "14d397b8",
   "metadata": {},
   "outputs": [],
   "source": [
    "with open(\"throw-x_o-2.pickle\", \"rb\") as f:\n",
    "    d_o, x_o = pickle.load(f)\n",
    "\n",
    "# Adjust the parameters here to obtain a good estimate by hand\n",
    "velocity = 40\n",
    "angle = 30\n",
    "drag = 0.13\n",
    "\n",
    "sim = throw(velocity, angle, drag, h_noise=1.5)  # run the simulation with noise\n",
    "\n",
    "d, x = sim[\"d\"], sim[\"x\"]\n",
    "\n",
    "plot_throw2(d_o, x_o, d, x)"
   ]
  },
  {
   "cell_type": "markdown",
   "id": "90687b20",
   "metadata": {},
   "source": [
    "## Implement rejection-ABC"
   ]
  },
  {
   "cell_type": "markdown",
   "id": "bae0bcf4",
   "metadata": {},
   "source": [
    "We will implement an algorithm called rejection ABC to make this inference automatic. For this, you need:\n",
    "* The simulator (implemented above)\n",
    "* A distance function (in `distance`)\n",
    "* A threshold $\\epsilon$ for what we accept as \"close to the observation\"\n",
    "* A prior over the parameters (we start with a uniform prior)\n",
    "* A function to generate simulations from the prior (in `random_simulation`)\n",
    "* A loop that generates simulations but only keeps them if they are closer than $\\epsilon$ (in `rejection_abc`)"
   ]
  },
  {
   "cell_type": "code",
   "execution_count": null,
   "id": "420dfdb5",
   "metadata": {},
   "outputs": [],
   "source": [
    "def distance(x1: np.array, x2: np.array, d_func: Callable) -> float:\n",
    "    \"\"\"Returns distance according to specified distance measure.\n",
    "\n",
    "    Args:\n",
    "        y1, y2: y-values (important: need to be sampled at fixed x-grid so that point in y match!)\n",
    "        d_func: distance function (symmetric)\n",
    "\n",
    "    Returns:\n",
    "        distance between prediction and data.\n",
    "    \"\"\"\n",
    "\n",
    "    return d_func(x1[x1 > 0], x2[x1 > 0])\n",
    "\n",
    "\n",
    "# choose a distance function ...\n",
    "mse = lambda x1, x2: np.square(np.subtract(x1, x2)).mean()\n",
    "chebyshev = lambda x1, x2: np.max(np.abs(np.subtract(x1, x2)))"
   ]
  },
  {
   "cell_type": "code",
   "execution_count": null,
   "id": "906a102a",
   "metadata": {},
   "outputs": [],
   "source": [
    "def random_simulation(\n",
    "    prior_speed: Tuple[float, float], prior_angle: Tuple[float, float]\n",
    ") -> Tuple[float, float, float]:\n",
    "    \"\"\"Return simulation results from uniformly sampled parameters.\"\"\"\n",
    "    U = np.random.uniform\n",
    "\n",
    "    speed = U(*prior_speed)\n",
    "    angle = U(*prior_angle)\n",
    "    drag = 0.13\n",
    "\n",
    "    simulation = throw(speed, angle, drag)\n",
    "\n",
    "    return simulation[\"d\"], simulation[\"x\"], simulation[\"θ\"]"
   ]
  },
  {
   "cell_type": "code",
   "execution_count": null,
   "id": "fe0bd34f",
   "metadata": {},
   "outputs": [],
   "source": [
    "def rejection_abc(\n",
    "    x_o: np.array,\n",
    "    distance_function: Callable = mse,\n",
    "    eps: float = 30,\n",
    "    n_samples: int = 50,\n",
    "    prior_speed: Tuple[float, float] = (10, 60),\n",
    "    prior_angle: Tuple[float, float] = (10, 70),\n",
    ") -> Tuple[List, int]:\n",
    "    \"\"\"Return list of parameters such that distance of simulation x to x_o is <= ε.\n",
    "\n",
    "\n",
    "    Args:\n",
    "        eps: acceptance threshold\n",
    "        distance_function: function to compute distance between prediction and observation\n",
    "        n_samples: desired number of accepted parameter samples\n",
    "                   (aalternatively, you can cap the number of simulations and check how many\n",
    "                    acceptances you get*)\n",
    "    Return:\n",
    "        θ_accepted (list) : list of tuples with accepted parameters\n",
    "        sim_no (int) : number of simulations that were needed\n",
    "\n",
    "    \"\"\"\n",
    "    θ_accepted = []\n",
    "    sim_no = 0\n",
    "    while len(θ_accepted) < n_samples:\n",
    "        sim_no += 1\n",
    "        #### INSERT YOUR CODE HERE ####\n",
    "\n",
    "        ...\n",
    "\n",
    "        #### ##################### ####\n",
    "\n",
    "    θ_accepted = np.vstack(θ_accepted)\n",
    "    return θ_accepted, sim_no"
   ]
  },
  {
   "cell_type": "code",
   "execution_count": null,
   "id": "faf58de6",
   "metadata": {},
   "outputs": [],
   "source": [
    "# load the data with unknown parameters\n",
    "with open(\"throw-x_o-2.pickle\", \"rb\") as f:\n",
    "    d_o, x_o = pickle.load(f)\n",
    "\n",
    "# run rejection abc\n",
    "prior_speed = (10, 70)\n",
    "prior_angle = (10, 60)\n",
    "θ, sim_no = rejection_abc(x_o, eps=50, prior_speed=prior_speed, prior_angle=prior_angle)"
   ]
  },
  {
   "cell_type": "markdown",
   "id": "81822c90",
   "metadata": {},
   "source": [
    "What fraction of randomly sampled simulations lead to accepted parameter sets? "
   ]
  },
  {
   "cell_type": "code",
   "execution_count": null,
   "id": "08568fad",
   "metadata": {},
   "outputs": [],
   "source": [
    "# ADD YOUR COMPUTATION HERE"
   ]
  },
  {
   "cell_type": "markdown",
   "id": "5ef999ae",
   "metadata": {},
   "source": [
    "Now, plot some of the accepted simulations. By changing the index variable, you can look at different accepted simulations."
   ]
  },
  {
   "cell_type": "code",
   "execution_count": null,
   "id": "9a149f5d",
   "metadata": {},
   "outputs": [],
   "source": [
    "idx = 2\n",
    "\n",
    "velocity, angle, drag = θ[idx]\n",
    "sim = throw(velocity, angle, drag)  # run the simulation with noise\n",
    "\n",
    "d, x = sim[\"d\"], sim[\"x\"]\n",
    "\n",
    "plot_throw2(d_o, x_o, d, x)"
   ]
  },
  {
   "cell_type": "markdown",
   "id": "aa19fba4",
   "metadata": {},
   "source": [
    "Let's look at a plot of the accepted samples compared to samples from the prior. The size of the plot is the range of all generated samples based on the uniform prior. The red square marks the mean of the accepted samples:"
   ]
  },
  {
   "cell_type": "code",
   "execution_count": null,
   "id": "b9106641",
   "metadata": {},
   "outputs": [],
   "source": [
    "import torch\n",
    "from sbi.analysis import pairplot"
   ]
  },
  {
   "cell_type": "code",
   "execution_count": null,
   "id": "1be3ffa7",
   "metadata": {},
   "outputs": [],
   "source": [
    "_ = pairplot(\n",
    "    torch.from_numpy(θ[:, 0:2]),\n",
    "    figsize=(6, 6),\n",
    "    labels=[\"Speed (m/s)\", \"Angle (deg)\"],\n",
    "    points=[],\n",
    "    points_colors=(\"orange\",),\n",
    "    limits=np.array([prior_speed, prior_angle]),\n",
    "    diag=\"kde\",\n",
    "    upper=\"kde\",\n",
    ")"
   ]
  },
  {
   "cell_type": "markdown",
   "id": "02e0340a",
   "metadata": {},
   "source": [
    "The true speed was 35 m/s and the true angle 50 degrees. Intepret the plot above. "
   ]
  },
  {
   "cell_type": "markdown",
   "id": "50e83e28",
   "metadata": {},
   "source": [
    "The speed of rejection ABC is determined by the fraction of samples accepted. Explore how changing $\\epsilon$ or the prior can change the fraction of accepted samples and the spread of the points in the above plot."
   ]
  },
  {
   "cell_type": "code",
   "execution_count": null,
   "id": "ca987735",
   "metadata": {},
   "outputs": [],
   "source": []
  }
 ],
 "metadata": {
  "kernelspec": {
   "display_name": "Python 3",
   "language": "python",
   "name": "python3"
  },
  "language_info": {
   "codemirror_mode": {
    "name": "ipython",
    "version": 3
   },
   "file_extension": ".py",
   "mimetype": "text/x-python",
   "name": "python",
   "nbconvert_exporter": "python",
   "pygments_lexer": "ipython3",
   "version": "3.7.11"
  },
  "vscode": {
   "interpreter": {
    "hash": "c2fddc3234490c181eec43528232b6089a6e08593c6aa486303fa12c8cb547d5"
   }
  }
 },
 "nbformat": 4,
 "nbformat_minor": 5
}
